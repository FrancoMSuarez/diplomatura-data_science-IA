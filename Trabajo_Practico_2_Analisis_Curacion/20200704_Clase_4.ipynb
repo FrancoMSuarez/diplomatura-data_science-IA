{
 "cells": [
  {
   "cell_type": "markdown",
   "metadata": {},
   "source": [
    "## Clase 4, 2020-07-04"
   ]
  },
  {
   "cell_type": "markdown",
   "metadata": {},
   "source": [
    "### 1. Ejercicio SQL"
   ]
  },
  {
   "cell_type": "code",
   "execution_count": 2,
   "metadata": {},
   "outputs": [],
   "source": [
    "import sqlite3\n",
    "import pandas as pd"
   ]
  },
  {
   "cell_type": "code",
   "execution_count": 9,
   "metadata": {},
   "outputs": [],
   "source": [
    "dbc = sqlite3.connect('./chinook.db')"
   ]
  },
  {
   "cell_type": "code",
   "execution_count": 17,
   "metadata": {},
   "outputs": [],
   "source": [
    "dbcur = dbc.cursor()"
   ]
  },
  {
   "cell_type": "code",
   "execution_count": 24,
   "metadata": {},
   "outputs": [
    {
     "data": {
      "text/plain": [
       "[('albums',),\n",
       " ('sqlite_sequence',),\n",
       " ('artists',),\n",
       " ('customers',),\n",
       " ('employees',),\n",
       " ('genres',),\n",
       " ('invoices',),\n",
       " ('invoice_items',),\n",
       " ('media_types',),\n",
       " ('playlists',),\n",
       " ('playlist_track',),\n",
       " ('tracks',),\n",
       " ('sqlite_stat1',)]"
      ]
     },
     "execution_count": 24,
     "metadata": {},
     "output_type": "execute_result"
    }
   ],
   "source": [
    "dbcur.execute(\"SELECT name FROM sqlite_master WHERE type='table';\")\n",
    "dbcur.fetchall()"
   ]
  },
  {
   "cell_type": "code",
   "execution_count": 40,
   "metadata": {},
   "outputs": [
    {
     "data": {
      "text/plain": [
       "Index(['TrackId', 'Name', 'AlbumId', 'MediaTypeId', 'GenreId', 'Composer',\n",
       "       'Milliseconds', 'Bytes', 'UnitPrice'],\n",
       "      dtype='object')"
      ]
     },
     "execution_count": 40,
     "metadata": {},
     "output_type": "execute_result"
    }
   ],
   "source": [
    "pd.read_sql_query('select * from tracks;', dbc).columns"
   ]
  },
  {
   "cell_type": "code",
   "execution_count": 39,
   "metadata": {},
   "outputs": [
    {
     "data": {
      "text/plain": [
       "Index(['ArtistId', 'Name'], dtype='object')"
      ]
     },
     "execution_count": 39,
     "metadata": {},
     "output_type": "execute_result"
    }
   ],
   "source": [
    "pd.read_sql_query('select * from artists;', dbc).columns"
   ]
  },
  {
   "cell_type": "code",
   "execution_count": 38,
   "metadata": {},
   "outputs": [
    {
     "data": {
      "text/plain": [
       "Index(['AlbumId', 'Title', 'ArtistId'], dtype='object')"
      ]
     },
     "execution_count": 38,
     "metadata": {},
     "output_type": "execute_result"
    }
   ],
   "source": [
    "pd.read_sql_query('select * from albums;', dbc).columns"
   ]
  },
  {
   "cell_type": "markdown",
   "metadata": {},
   "source": [
    "### Canciones de Iron Maiden"
   ]
  },
  {
   "cell_type": "code",
   "execution_count": 70,
   "metadata": {},
   "outputs": [
    {
     "data": {
      "text/html": [
       "<div>\n",
       "<style scoped>\n",
       "    .dataframe tbody tr th:only-of-type {\n",
       "        vertical-align: middle;\n",
       "    }\n",
       "\n",
       "    .dataframe tbody tr th {\n",
       "        vertical-align: top;\n",
       "    }\n",
       "\n",
       "    .dataframe thead th {\n",
       "        text-align: right;\n",
       "    }\n",
       "</style>\n",
       "<table border=\"1\" class=\"dataframe\">\n",
       "  <thead>\n",
       "    <tr style=\"text-align: right;\">\n",
       "      <th></th>\n",
       "      <th>TrackId</th>\n",
       "      <th>Name</th>\n",
       "      <th>AlbumId</th>\n",
       "      <th>MediaTypeId</th>\n",
       "      <th>GenreId</th>\n",
       "      <th>Composer</th>\n",
       "      <th>Milliseconds</th>\n",
       "      <th>Bytes</th>\n",
       "      <th>UnitPrice</th>\n",
       "      <th>AlbumId</th>\n",
       "      <th>Title</th>\n",
       "      <th>ArtistId</th>\n",
       "      <th>ArtistId</th>\n",
       "      <th>Name</th>\n",
       "    </tr>\n",
       "  </thead>\n",
       "  <tbody>\n",
       "    <tr>\n",
       "      <td>0</td>\n",
       "      <td>1201</td>\n",
       "      <td>Different World</td>\n",
       "      <td>94</td>\n",
       "      <td>2</td>\n",
       "      <td>1</td>\n",
       "      <td>None</td>\n",
       "      <td>258692</td>\n",
       "      <td>4383764</td>\n",
       "      <td>0.99</td>\n",
       "      <td>94</td>\n",
       "      <td>A Matter of Life and Death</td>\n",
       "      <td>90</td>\n",
       "      <td>90</td>\n",
       "      <td>Iron Maiden</td>\n",
       "    </tr>\n",
       "    <tr>\n",
       "      <td>1</td>\n",
       "      <td>1202</td>\n",
       "      <td>These Colours Don't Run</td>\n",
       "      <td>94</td>\n",
       "      <td>2</td>\n",
       "      <td>1</td>\n",
       "      <td>None</td>\n",
       "      <td>412152</td>\n",
       "      <td>6883500</td>\n",
       "      <td>0.99</td>\n",
       "      <td>94</td>\n",
       "      <td>A Matter of Life and Death</td>\n",
       "      <td>90</td>\n",
       "      <td>90</td>\n",
       "      <td>Iron Maiden</td>\n",
       "    </tr>\n",
       "    <tr>\n",
       "      <td>2</td>\n",
       "      <td>1203</td>\n",
       "      <td>Brighter Than a Thousand Suns</td>\n",
       "      <td>94</td>\n",
       "      <td>2</td>\n",
       "      <td>1</td>\n",
       "      <td>None</td>\n",
       "      <td>526255</td>\n",
       "      <td>8721490</td>\n",
       "      <td>0.99</td>\n",
       "      <td>94</td>\n",
       "      <td>A Matter of Life and Death</td>\n",
       "      <td>90</td>\n",
       "      <td>90</td>\n",
       "      <td>Iron Maiden</td>\n",
       "    </tr>\n",
       "    <tr>\n",
       "      <td>3</td>\n",
       "      <td>1204</td>\n",
       "      <td>The Pilgrim</td>\n",
       "      <td>94</td>\n",
       "      <td>2</td>\n",
       "      <td>1</td>\n",
       "      <td>None</td>\n",
       "      <td>307593</td>\n",
       "      <td>5172144</td>\n",
       "      <td>0.99</td>\n",
       "      <td>94</td>\n",
       "      <td>A Matter of Life and Death</td>\n",
       "      <td>90</td>\n",
       "      <td>90</td>\n",
       "      <td>Iron Maiden</td>\n",
       "    </tr>\n",
       "    <tr>\n",
       "      <td>4</td>\n",
       "      <td>1205</td>\n",
       "      <td>The Longest Day</td>\n",
       "      <td>94</td>\n",
       "      <td>2</td>\n",
       "      <td>1</td>\n",
       "      <td>None</td>\n",
       "      <td>467810</td>\n",
       "      <td>7785748</td>\n",
       "      <td>0.99</td>\n",
       "      <td>94</td>\n",
       "      <td>A Matter of Life and Death</td>\n",
       "      <td>90</td>\n",
       "      <td>90</td>\n",
       "      <td>Iron Maiden</td>\n",
       "    </tr>\n",
       "    <tr>\n",
       "      <td>...</td>\n",
       "      <td>...</td>\n",
       "      <td>...</td>\n",
       "      <td>...</td>\n",
       "      <td>...</td>\n",
       "      <td>...</td>\n",
       "      <td>...</td>\n",
       "      <td>...</td>\n",
       "      <td>...</td>\n",
       "      <td>...</td>\n",
       "      <td>...</td>\n",
       "      <td>...</td>\n",
       "      <td>...</td>\n",
       "      <td>...</td>\n",
       "      <td>...</td>\n",
       "    </tr>\n",
       "    <tr>\n",
       "      <td>208</td>\n",
       "      <td>1409</td>\n",
       "      <td>The Clansman</td>\n",
       "      <td>114</td>\n",
       "      <td>1</td>\n",
       "      <td>1</td>\n",
       "      <td>Steve Harris</td>\n",
       "      <td>539689</td>\n",
       "      <td>21592327</td>\n",
       "      <td>0.99</td>\n",
       "      <td>114</td>\n",
       "      <td>Virtual XI</td>\n",
       "      <td>90</td>\n",
       "      <td>90</td>\n",
       "      <td>Iron Maiden</td>\n",
       "    </tr>\n",
       "    <tr>\n",
       "      <td>209</td>\n",
       "      <td>1410</td>\n",
       "      <td>When Two Worlds Collide</td>\n",
       "      <td>114</td>\n",
       "      <td>1</td>\n",
       "      <td>1</td>\n",
       "      <td>Blaze Bayley/David Murray/Steve Harris</td>\n",
       "      <td>377312</td>\n",
       "      <td>15093888</td>\n",
       "      <td>0.99</td>\n",
       "      <td>114</td>\n",
       "      <td>Virtual XI</td>\n",
       "      <td>90</td>\n",
       "      <td>90</td>\n",
       "      <td>Iron Maiden</td>\n",
       "    </tr>\n",
       "    <tr>\n",
       "      <td>210</td>\n",
       "      <td>1411</td>\n",
       "      <td>The Educated Fool</td>\n",
       "      <td>114</td>\n",
       "      <td>1</td>\n",
       "      <td>1</td>\n",
       "      <td>Steve Harris</td>\n",
       "      <td>404767</td>\n",
       "      <td>16191616</td>\n",
       "      <td>0.99</td>\n",
       "      <td>114</td>\n",
       "      <td>Virtual XI</td>\n",
       "      <td>90</td>\n",
       "      <td>90</td>\n",
       "      <td>Iron Maiden</td>\n",
       "    </tr>\n",
       "    <tr>\n",
       "      <td>211</td>\n",
       "      <td>1412</td>\n",
       "      <td>Don't Look To The Eyes Of A Stranger</td>\n",
       "      <td>114</td>\n",
       "      <td>1</td>\n",
       "      <td>1</td>\n",
       "      <td>Steve Harris</td>\n",
       "      <td>483657</td>\n",
       "      <td>19347584</td>\n",
       "      <td>0.99</td>\n",
       "      <td>114</td>\n",
       "      <td>Virtual XI</td>\n",
       "      <td>90</td>\n",
       "      <td>90</td>\n",
       "      <td>Iron Maiden</td>\n",
       "    </tr>\n",
       "    <tr>\n",
       "      <td>212</td>\n",
       "      <td>1413</td>\n",
       "      <td>Como Estais Amigos</td>\n",
       "      <td>114</td>\n",
       "      <td>1</td>\n",
       "      <td>1</td>\n",
       "      <td>Blaze Bayley/Janick Gers</td>\n",
       "      <td>330292</td>\n",
       "      <td>13213824</td>\n",
       "      <td>0.99</td>\n",
       "      <td>114</td>\n",
       "      <td>Virtual XI</td>\n",
       "      <td>90</td>\n",
       "      <td>90</td>\n",
       "      <td>Iron Maiden</td>\n",
       "    </tr>\n",
       "  </tbody>\n",
       "</table>\n",
       "<p>213 rows × 14 columns</p>\n",
       "</div>"
      ],
      "text/plain": [
       "     TrackId                                  Name  AlbumId  MediaTypeId  \\\n",
       "0       1201                       Different World       94            2   \n",
       "1       1202               These Colours Don't Run       94            2   \n",
       "2       1203         Brighter Than a Thousand Suns       94            2   \n",
       "3       1204                           The Pilgrim       94            2   \n",
       "4       1205                       The Longest Day       94            2   \n",
       "..       ...                                   ...      ...          ...   \n",
       "208     1409                          The Clansman      114            1   \n",
       "209     1410               When Two Worlds Collide      114            1   \n",
       "210     1411                     The Educated Fool      114            1   \n",
       "211     1412  Don't Look To The Eyes Of A Stranger      114            1   \n",
       "212     1413                    Como Estais Amigos      114            1   \n",
       "\n",
       "     GenreId                                Composer  Milliseconds     Bytes  \\\n",
       "0          1                                    None        258692   4383764   \n",
       "1          1                                    None        412152   6883500   \n",
       "2          1                                    None        526255   8721490   \n",
       "3          1                                    None        307593   5172144   \n",
       "4          1                                    None        467810   7785748   \n",
       "..       ...                                     ...           ...       ...   \n",
       "208        1                            Steve Harris        539689  21592327   \n",
       "209        1  Blaze Bayley/David Murray/Steve Harris        377312  15093888   \n",
       "210        1                            Steve Harris        404767  16191616   \n",
       "211        1                            Steve Harris        483657  19347584   \n",
       "212        1                Blaze Bayley/Janick Gers        330292  13213824   \n",
       "\n",
       "     UnitPrice  AlbumId                       Title  ArtistId  ArtistId  \\\n",
       "0         0.99       94  A Matter of Life and Death        90        90   \n",
       "1         0.99       94  A Matter of Life and Death        90        90   \n",
       "2         0.99       94  A Matter of Life and Death        90        90   \n",
       "3         0.99       94  A Matter of Life and Death        90        90   \n",
       "4         0.99       94  A Matter of Life and Death        90        90   \n",
       "..         ...      ...                         ...       ...       ...   \n",
       "208       0.99      114                  Virtual XI        90        90   \n",
       "209       0.99      114                  Virtual XI        90        90   \n",
       "210       0.99      114                  Virtual XI        90        90   \n",
       "211       0.99      114                  Virtual XI        90        90   \n",
       "212       0.99      114                  Virtual XI        90        90   \n",
       "\n",
       "            Name  \n",
       "0    Iron Maiden  \n",
       "1    Iron Maiden  \n",
       "2    Iron Maiden  \n",
       "3    Iron Maiden  \n",
       "4    Iron Maiden  \n",
       "..           ...  \n",
       "208  Iron Maiden  \n",
       "209  Iron Maiden  \n",
       "210  Iron Maiden  \n",
       "211  Iron Maiden  \n",
       "212  Iron Maiden  \n",
       "\n",
       "[213 rows x 14 columns]"
      ]
     },
     "execution_count": 70,
     "metadata": {},
     "output_type": "execute_result"
    }
   ],
   "source": [
    "pd.read_sql_query(\"\"\"\n",
    "                  SELECT * FROM tracks t, albums a, artists ar \n",
    "                  WHERE t.AlbumId = a.AlbumId \n",
    "                  AND a.ArtistId = ar.ArtistId \n",
    "                  AND ar.Name = 'Iron Maiden';\"\"\", dbc)"
   ]
  },
  {
   "cell_type": "code",
   "execution_count": 68,
   "metadata": {},
   "outputs": [
    {
     "data": {
      "text/html": [
       "<div>\n",
       "<style scoped>\n",
       "    .dataframe tbody tr th:only-of-type {\n",
       "        vertical-align: middle;\n",
       "    }\n",
       "\n",
       "    .dataframe tbody tr th {\n",
       "        vertical-align: top;\n",
       "    }\n",
       "\n",
       "    .dataframe thead th {\n",
       "        text-align: right;\n",
       "    }\n",
       "</style>\n",
       "<table border=\"1\" class=\"dataframe\">\n",
       "  <thead>\n",
       "    <tr style=\"text-align: right;\">\n",
       "      <th></th>\n",
       "      <th>Name</th>\n",
       "      <th>Name</th>\n",
       "      <th>playlist_count</th>\n",
       "    </tr>\n",
       "  </thead>\n",
       "  <tbody>\n",
       "    <tr>\n",
       "      <td>0</td>\n",
       "      <td>Intoitus: Adorate Deum</td>\n",
       "      <td>Alberto Turco &amp; Nova Schola Gregoriana</td>\n",
       "      <td>5</td>\n",
       "    </tr>\n",
       "    <tr>\n",
       "      <td>1</td>\n",
       "      <td>Miserere mei, Deus</td>\n",
       "      <td>Richard Marlow &amp; The Choir of Trinity College,...</td>\n",
       "      <td>5</td>\n",
       "    </tr>\n",
       "    <tr>\n",
       "      <td>2</td>\n",
       "      <td>Aria Mit 30 Veränderungen, BWV 988 \"Goldberg V...</td>\n",
       "      <td>Wilhelm Kempff</td>\n",
       "      <td>5</td>\n",
       "    </tr>\n",
       "    <tr>\n",
       "      <td>3</td>\n",
       "      <td>Suite for Solo Cello No. 1 in G Major, BWV 100...</td>\n",
       "      <td>Yo-Yo Ma</td>\n",
       "      <td>5</td>\n",
       "    </tr>\n",
       "    <tr>\n",
       "      <td>4</td>\n",
       "      <td>The Messiah: Behold, I Tell You a Mystery... T...</td>\n",
       "      <td>Scholars Baroque Ensemble</td>\n",
       "      <td>5</td>\n",
       "    </tr>\n",
       "  </tbody>\n",
       "</table>\n",
       "</div>"
      ],
      "text/plain": [
       "                                                Name  \\\n",
       "0                             Intoitus: Adorate Deum   \n",
       "1                                 Miserere mei, Deus   \n",
       "2  Aria Mit 30 Veränderungen, BWV 988 \"Goldberg V...   \n",
       "3  Suite for Solo Cello No. 1 in G Major, BWV 100...   \n",
       "4  The Messiah: Behold, I Tell You a Mystery... T...   \n",
       "\n",
       "                                                Name  playlist_count  \n",
       "0             Alberto Turco & Nova Schola Gregoriana               5  \n",
       "1  Richard Marlow & The Choir of Trinity College,...               5  \n",
       "2                                     Wilhelm Kempff               5  \n",
       "3                                           Yo-Yo Ma               5  \n",
       "4                          Scholars Baroque Ensemble               5  "
      ]
     },
     "execution_count": 68,
     "metadata": {},
     "output_type": "execute_result"
    }
   ],
   "source": [
    "pd.read_sql_query(\"\"\"\\\n",
    "                  SELECT t.name, ar.name, count(pt.playlistid) as playlist_count\n",
    "                  FROM tracks t, albums a, artists ar, playlist_track pt\n",
    "                  WHERE t.AlbumId = a.AlbumId\n",
    "                  AND ar.artistid = a.artistid\n",
    "                  AND pt.trackid = t.trackid\n",
    "                  group by pt.trackid\n",
    "                  order by playlist_count desc\n",
    "                  limit 5;\"\"\", dbc)"
   ]
  },
  {
   "cell_type": "markdown",
   "metadata": {},
   "source": [
    "### 2. Ejercicio FEED PARSER RSS"
   ]
  },
  {
   "cell_type": "code",
   "execution_count": 45,
   "metadata": {},
   "outputs": [],
   "source": [
    "import feedparser as fp"
   ]
  },
  {
   "cell_type": "code",
   "execution_count": 66,
   "metadata": {},
   "outputs": [
    {
     "name": "stdout",
     "output_type": "stream",
     "text": [
      "30\n"
     ]
    },
    {
     "data": {
      "text/plain": [
       "['Ubisoft lanza el juego marcado para ser un nuevo \"battle royal\", sólo que urbano y futurista',\n",
       " 'El primer smartphone enrollable ya se está fabricando: LG se anota primero',\n",
       " 'Este guante con sensores traduce la lengua de signos a voz en tiempo real',\n",
       " 'Microsoft muestra el nuevo diseño del menú de Windows: fondo unificado y disponible en temas de color claro y oscuro',\n",
       " \"Una campaña de 'malware' envía SMS falsos a usuarios de Android para robar datos\",\n",
       " 'Lo que se viene en WhatsApp: stickers animados, códigos QR y más',\n",
       " 'Huawei y Samsung acaparan el mercado mundial de smartphones',\n",
       " \"Duró poco: Facebook cierra Hobbi, su 'app' experimental similar a Pinterest\",\n",
       " 'Los altavoces portátiles Xboom Gode LG son resistentes al agua y traen una batería de hasta 24 horas',\n",
       " 'Google Fotos desactiva la copia de seguridad y la sincronización con las carpetas de apps de mensajería como WhatsApp',\n",
       " 'Facebook lanza una campaña de alfabetización mediática para ayudar a detectar noticias falsas',\n",
       " 'Facebook crea unas gafas de realidad virtual finas y compactas que parecen lentes de sol',\n",
       " \"Disney ya es capaz de crear 'deepfakes' con resolución de un megapíxel para su uso en efectos visuales de cine\",\n",
       " 'Detectan problemas con Gmail en la app de Correo de Windows 10',\n",
       " 'El iPhone 12 no tendrá en la caja el cargador ni los auriculares, según el mayor gurú de Apple',\n",
       " 'Policía y reconocimiento facial: todo lo que está mal, en cinco puntos',\n",
       " '¿\"YouTok\"? YouTube prueba la grabación de videos de 15 segundos desde su app al estilo de TikTok',\n",
       " 'Facebook te avisará si el artículo que estás por compartir tiene más de 90 días',\n",
       " 'LG anuncia nuevos auriculares inalámbricos con un estuche que los limpia automáticamente y tecnología Meridian Audio',\n",
       " 'Inteligencia Artificial de IBM ya crea resúmenes de partidos de fútbol de forma autónoma',\n",
       " 'Telegram ya permite realizar videollamadas de forma experimental',\n",
       " 'Novedades de Google: cambian la voz de Maps y borran el historial de ubicaciones',\n",
       " 'Google pagará a los medios bajo un programa de licencias para un nuevo servicio de noticias',\n",
       " 'Revés para Facebook: el Banco Central de Brasil suspende los pagos por WhatsApp',\n",
       " \"Google introduce el 'fact check' en las búsquedas de imágenes\",\n",
       " 'Google Maps prepara la integración con Uber para calcular las tarifas de las rutas',\n",
       " 'Microsoft anuncia el cierre de Mixer y su alianza con Facebook Gaming',\n",
       " 'Crean un delfín robótico de gran realismo para sustituir a los de verdad en los acuarios marinos',\n",
       " 'Crean Fugaku, el superordenador más potente del mundo',\n",
       " 'Chrome consumirá menos memoria en la nueva actualización de Windows 10']"
      ]
     },
     "execution_count": 66,
     "metadata": {},
     "output_type": "execute_result"
    }
   ],
   "source": [
    "parsed = fp.parse('https://www.lavoz.com.ar/rss/tecnologia.xml')\n",
    "posts = parsed.entries\n",
    "print(len(posts))\n",
    "[post.title for post in posts]"
   ]
  },
  {
   "cell_type": "code",
   "execution_count": null,
   "metadata": {},
   "outputs": [],
   "source": []
  }
 ],
 "metadata": {
  "kernelspec": {
   "display_name": "Python 3",
   "language": "python",
   "name": "python3"
  },
  "language_info": {
   "codemirror_mode": {
    "name": "ipython",
    "version": 3
   },
   "file_extension": ".py",
   "mimetype": "text/x-python",
   "name": "python",
   "nbconvert_exporter": "python",
   "pygments_lexer": "ipython3",
   "version": "3.7.5"
  }
 },
 "nbformat": 4,
 "nbformat_minor": 4
}
