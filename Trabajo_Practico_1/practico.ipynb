{
 "cells": [
  {
   "cell_type": "markdown",
   "metadata": {
    "colab_type": "text",
    "id": "mKqgKTs3FZCI"
   },
   "source": [
    "<center>\n",
    "<h4>Universidad Nacional de Córdoba - Facultad de Matemática, Astronomía, Física y Computación</h4>\n",
    "<h3>Diplomatura en Ciencia de Datos, Aprendizaje Automático y sus Aplicaciones</h3>\n",
    "</center>"
   ]
  },
  {
   "cell_type": "markdown",
   "metadata": {
    "colab_type": "text",
    "id": "b956SHDlFZCJ"
   },
   "source": [
    "<h1> Práctico </h1>\n",
    "<h3> Análisis y Visualización de Datos - 2020 </h3>\n",
    "\n",
    "Durante este práctico vamos a trabajar sobre el dataset [Human Freedom Index 2018](https://www.cato.org/human-freedom-index-new) de el instituto Cato. Este índice mide en detalle lo que entendemos como libertad, utilizando 79 indicadores de libertad personal y económica en distintos aspectos, hasta obtener un hermoso numerito del 1 al 10.\n",
    "\n",
    "Las variables más importantes sobre las que trabaja el dataset son:\n",
    "\n",
    "* Rule of Law\n",
    "* Security and Safety\n",
    "* Movement\n",
    "* Religion\n",
    "* Association, Assembly, and Civil Society\n",
    "* Expression and Information\n",
    "* Identity and Relationships\n",
    "* Size of Government\n",
    "* Legal System and Property Rights\n",
    "* Access to Sound Money\n",
    "* Freedom to Trade Internationally\n",
    "* Regulation of Credit, Labor, and Business\n",
    "\n",
    "Nosotros centrarermos nuestro análisis en variables relacionadas a *Identity and Relationships* en paises de Latinoamérica, y los compararemos con las estadísticas globales. La pregunta a responder es simple: **¿Qué niveles de libertad se viven en Latinoamérica, especificamente en cuanto libertades de indentidad?**. Sin embargo, para hacer un análisis de los datos tenemos que platear también estas sub preguntas:\n",
    "\n",
    "1. ¿Qué significa tener un puntaje de 4.5? Hay que poner los puntajes de la región en contexto con los datos del resto del mundo.\n",
    "2. ¿Cuál es la tendencia a lo largo de los años? ¿Estamos mejorando, empeorando?\n",
    "3. En este estudio, la libertad se mide con un estimadores principal: *hf_score* que hace referencia a Human Freedom, que a su vez está calculado en base a dos otros estimadores *ef_score*, para Economic Freedom y *pf_score*, para Personal Freedom. Estos tres estimadores, ¿se relacionan de la misma manera con la libertad de identidad?\n",
    "\n",
    "Inicialmente, en toda exploración de datos tenemos muy poca información a priori sobre el significado de los datos y tenemos que empezar por comprenderlos. Les proponemos los siguientes ejercicios como guía para comenzar esta exploración."
   ]
  },
  {
   "cell_type": "code",
   "execution_count": 1,
   "metadata": {
    "colab": {
     "base_uri": "https://localhost:8080/",
     "height": 73
    },
    "colab_type": "code",
    "id": "xZoxu5phFZCK",
    "outputId": "316448bd-61a0-4fc4-e2d0-7abfce040abd"
   },
   "outputs": [],
   "source": [
    "import matplotlib.pyplot as plt\n",
    "import numpy\n",
    "import pandas\n",
    "import seaborn\n",
    "\n",
    "from IPython.display import display, Markdown"
   ]
  },
  {
   "cell_type": "code",
   "execution_count": 2,
   "metadata": {
    "colab": {
     "base_uri": "https://localhost:8080/",
     "height": 35
    },
    "colab_type": "code",
    "id": "-N3A9N2LFZCP",
    "outputId": "cfada158-aea9-4ed2-cd1a-d24db74f14f4"
   },
   "outputs": [
    {
     "data": {
      "text/plain": [
       "'0.10.1'"
      ]
     },
     "execution_count": 2,
     "metadata": {},
     "output_type": "execute_result"
    }
   ],
   "source": [
    "seaborn.__version__"
   ]
  },
  {
   "cell_type": "markdown",
   "metadata": {
    "colab_type": "text",
    "id": "Gg_MqLmTTi-h"
   },
   "source": [
    "Si un archivo está disponible en la web, podemos leerlo con pandas utilizando su URL sin necesidad de descargarlo."
   ]
  },
  {
   "cell_type": "code",
   "execution_count": 3,
   "metadata": {
    "colab": {
     "base_uri": "https://localhost:8080/",
     "height": 35
    },
    "colab_type": "code",
    "id": "-QOtVVUOFZCU",
    "outputId": "9ab2645c-ce83-4ffc-c61b-2477a50f068c"
   },
   "outputs": [
    {
     "data": {
      "text/plain": [
       "(1620, 120)"
      ]
     },
     "execution_count": 3,
     "metadata": {},
     "output_type": "execute_result"
    }
   ],
   "source": [
    "dataset = pandas.read_csv(\n",
    "    'https://object.cato.org/sites/cato.org/files/human-freedom-index-files/human-freedom-index-2019.csv')\n",
    "dataset.shape"
   ]
  },
  {
   "cell_type": "code",
   "execution_count": 4,
   "metadata": {
    "colab": {
     "base_uri": "https://localhost:8080/",
     "height": 160
    },
    "colab_type": "code",
    "id": "S_n8Fh3EFZCY",
    "outputId": "9335dbb1-b639-42e7-8183-a3974b1e9fc6"
   },
   "outputs": [
    {
     "data": {
      "text/plain": [
       "Index(['year', 'ISO_code', 'countries', 'region', 'hf_score', 'hf_rank',\n",
       "       'hf_quartile', 'pf_rol_procedural', 'pf_rol_civil', 'pf_rol_criminal',\n",
       "       ...\n",
       "       'ef_regulation_business_adm', 'ef_regulation_business_bureaucracy',\n",
       "       'ef_regulation_business_start', 'ef_regulation_business_bribes',\n",
       "       'ef_regulation_business_licensing', 'ef_regulation_business_compliance',\n",
       "       'ef_regulation_business', 'ef_regulation', 'ef_score', 'ef_rank'],\n",
       "      dtype='object', length=120)"
      ]
     },
     "execution_count": 4,
     "metadata": {},
     "output_type": "execute_result"
    }
   ],
   "source": [
    "dataset.columns  # Way too many columns!"
   ]
  },
  {
   "cell_type": "markdown",
   "metadata": {
    "colab_type": "text",
    "id": "05keUcCbFZCc"
   },
   "source": [
    "Por suerte las columnas tienen un prefijo que nos ayuda a identificar a qué sección pertenecen. Nos quedamos sólo con las que comienzan con *pf_indentity*, junto con otras columnas más generales"
   ]
  },
  {
   "cell_type": "code",
   "execution_count": 5,
   "metadata": {
    "colab": {},
    "colab_type": "code",
    "id": "EQCW-sJSFZCd"
   },
   "outputs": [
    {
     "data": {
      "text/plain": [
       "['ISO_code',\n",
       " 'countries',\n",
       " 'region',\n",
       " 'year',\n",
       " 'pf_identity_legal',\n",
       " 'pf_identity_sex_male',\n",
       " 'pf_identity_sex_female',\n",
       " 'pf_identity_sex',\n",
       " 'pf_identity_divorce',\n",
       " 'pf_identity',\n",
       " 'pf_score',\n",
       " 'pf_rank',\n",
       " 'ef_score',\n",
       " 'ef_rank',\n",
       " 'hf_score',\n",
       " 'hf_rank']"
      ]
     },
     "execution_count": 5,
     "metadata": {},
     "output_type": "execute_result"
    }
   ],
   "source": [
    "score_cols = [col for col in dataset.columns if 'pf_identity' in col] + [\n",
    "    'pf_score', # Personal Freedom (score)\n",
    "    'pf_rank', # Personal Freedom (rank)\n",
    "    'ef_score', # Economic Freedom (score)\n",
    "    'ef_rank', # Economic Freedom (rank)\n",
    "    'hf_score', # Human Freedom (score)\n",
    "    'hf_rank', # Human Freedom (rank)\n",
    "]\n",
    "num_cols = ['year'] + score_cols\n",
    "cat_cols = ['ISO_code', 'countries', 'region']\n",
    "important_cols = cat_cols + num_cols\n",
    "important_cols"
   ]
  },
  {
   "cell_type": "code",
   "execution_count": 6,
   "metadata": {
    "colab": {
     "base_uri": "https://localhost:8080/",
     "height": 677
    },
    "colab_type": "code",
    "id": "ZXYn1yL5FZCh",
    "outputId": "9ff73231-1c11-407d-f47e-1fea3215e48b"
   },
   "outputs": [
    {
     "data": {
      "text/html": [
       "<div>\n",
       "<style scoped>\n",
       "    .dataframe tbody tr th:only-of-type {\n",
       "        vertical-align: middle;\n",
       "    }\n",
       "\n",
       "    .dataframe tbody tr th {\n",
       "        vertical-align: top;\n",
       "    }\n",
       "\n",
       "    .dataframe thead th {\n",
       "        text-align: right;\n",
       "    }\n",
       "</style>\n",
       "<table border=\"1\" class=\"dataframe\">\n",
       "  <thead>\n",
       "    <tr style=\"text-align: right;\">\n",
       "      <th></th>\n",
       "      <th>ISO_code</th>\n",
       "      <th>countries</th>\n",
       "      <th>region</th>\n",
       "      <th>year</th>\n",
       "      <th>pf_identity_legal</th>\n",
       "      <th>pf_identity_sex_male</th>\n",
       "      <th>pf_identity_sex_female</th>\n",
       "      <th>pf_identity_sex</th>\n",
       "      <th>pf_identity_divorce</th>\n",
       "      <th>pf_identity</th>\n",
       "      <th>pf_score</th>\n",
       "      <th>pf_rank</th>\n",
       "      <th>ef_score</th>\n",
       "      <th>ef_rank</th>\n",
       "      <th>hf_score</th>\n",
       "      <th>hf_rank</th>\n",
       "    </tr>\n",
       "  </thead>\n",
       "  <tbody>\n",
       "    <tr>\n",
       "      <th>0</th>\n",
       "      <td>ALB</td>\n",
       "      <td>Albania</td>\n",
       "      <td>Eastern Europe</td>\n",
       "      <td>2017</td>\n",
       "      <td>0</td>\n",
       "      <td>10</td>\n",
       "      <td>10</td>\n",
       "      <td>10</td>\n",
       "      <td>7.5</td>\n",
       "      <td>5.8</td>\n",
       "      <td>8.01</td>\n",
       "      <td>46</td>\n",
       "      <td>7.67</td>\n",
       "      <td>30</td>\n",
       "      <td>7.84</td>\n",
       "      <td>38</td>\n",
       "    </tr>\n",
       "    <tr>\n",
       "      <th>1</th>\n",
       "      <td>DZA</td>\n",
       "      <td>Algeria</td>\n",
       "      <td>Middle East &amp; North Africa</td>\n",
       "      <td>2017</td>\n",
       "      <td>-</td>\n",
       "      <td>0</td>\n",
       "      <td>0</td>\n",
       "      <td>0</td>\n",
       "      <td>0</td>\n",
       "      <td>0</td>\n",
       "      <td>5.2</td>\n",
       "      <td>146</td>\n",
       "      <td>4.77</td>\n",
       "      <td>159</td>\n",
       "      <td>4.99</td>\n",
       "      <td>155</td>\n",
       "    </tr>\n",
       "    <tr>\n",
       "      <th>2</th>\n",
       "      <td>AGO</td>\n",
       "      <td>Angola</td>\n",
       "      <td>Sub-Saharan Africa</td>\n",
       "      <td>2017</td>\n",
       "      <td>10</td>\n",
       "      <td>0</td>\n",
       "      <td>0</td>\n",
       "      <td>0</td>\n",
       "      <td>5</td>\n",
       "      <td>5</td>\n",
       "      <td>5.98</td>\n",
       "      <td>121</td>\n",
       "      <td>4.83</td>\n",
       "      <td>158</td>\n",
       "      <td>5.4</td>\n",
       "      <td>151</td>\n",
       "    </tr>\n",
       "    <tr>\n",
       "      <th>3</th>\n",
       "      <td>ARG</td>\n",
       "      <td>Argentina</td>\n",
       "      <td>Latin America &amp; the Caribbean</td>\n",
       "      <td>2017</td>\n",
       "      <td>10</td>\n",
       "      <td>10</td>\n",
       "      <td>10</td>\n",
       "      <td>10</td>\n",
       "      <td>10</td>\n",
       "      <td>10</td>\n",
       "      <td>8.04</td>\n",
       "      <td>41</td>\n",
       "      <td>5.67</td>\n",
       "      <td>147</td>\n",
       "      <td>6.86</td>\n",
       "      <td>77</td>\n",
       "    </tr>\n",
       "    <tr>\n",
       "      <th>4</th>\n",
       "      <td>ARM</td>\n",
       "      <td>Armenia</td>\n",
       "      <td>Caucasus &amp; Central Asia</td>\n",
       "      <td>2017</td>\n",
       "      <td>7</td>\n",
       "      <td>10</td>\n",
       "      <td>10</td>\n",
       "      <td>10</td>\n",
       "      <td>7.5</td>\n",
       "      <td>8.2</td>\n",
       "      <td>7.15</td>\n",
       "      <td>72</td>\n",
       "      <td>7.7</td>\n",
       "      <td>27</td>\n",
       "      <td>7.42</td>\n",
       "      <td>54</td>\n",
       "    </tr>\n",
       "    <tr>\n",
       "      <th>...</th>\n",
       "      <td>...</td>\n",
       "      <td>...</td>\n",
       "      <td>...</td>\n",
       "      <td>...</td>\n",
       "      <td>...</td>\n",
       "      <td>...</td>\n",
       "      <td>...</td>\n",
       "      <td>...</td>\n",
       "      <td>...</td>\n",
       "      <td>...</td>\n",
       "      <td>...</td>\n",
       "      <td>...</td>\n",
       "      <td>...</td>\n",
       "      <td>...</td>\n",
       "      <td>...</td>\n",
       "      <td>...</td>\n",
       "    </tr>\n",
       "    <tr>\n",
       "      <th>1615</th>\n",
       "      <td>AUS</td>\n",
       "      <td>Australia</td>\n",
       "      <td>Oceania</td>\n",
       "      <td>2008</td>\n",
       "      <td>-</td>\n",
       "      <td>10</td>\n",
       "      <td>10</td>\n",
       "      <td>10</td>\n",
       "      <td>10</td>\n",
       "      <td>10</td>\n",
       "      <td>9.29</td>\n",
       "      <td>7</td>\n",
       "      <td>8.18</td>\n",
       "      <td>6</td>\n",
       "      <td>8.73</td>\n",
       "      <td>4</td>\n",
       "    </tr>\n",
       "    <tr>\n",
       "      <th>1616</th>\n",
       "      <td>DNK</td>\n",
       "      <td>Denmark</td>\n",
       "      <td>Western Europe</td>\n",
       "      <td>2008</td>\n",
       "      <td>-</td>\n",
       "      <td>10</td>\n",
       "      <td>10</td>\n",
       "      <td>10</td>\n",
       "      <td>10</td>\n",
       "      <td>10</td>\n",
       "      <td>9.49</td>\n",
       "      <td>3</td>\n",
       "      <td>7.98</td>\n",
       "      <td>9</td>\n",
       "      <td>8.73</td>\n",
       "      <td>4</td>\n",
       "    </tr>\n",
       "    <tr>\n",
       "      <th>1617</th>\n",
       "      <td>CHE</td>\n",
       "      <td>Switzerland</td>\n",
       "      <td>Western Europe</td>\n",
       "      <td>2008</td>\n",
       "      <td>-</td>\n",
       "      <td>10</td>\n",
       "      <td>10</td>\n",
       "      <td>10</td>\n",
       "      <td>10</td>\n",
       "      <td>10</td>\n",
       "      <td>9.31</td>\n",
       "      <td>6</td>\n",
       "      <td>8.35</td>\n",
       "      <td>4</td>\n",
       "      <td>8.83</td>\n",
       "      <td>3</td>\n",
       "    </tr>\n",
       "    <tr>\n",
       "      <th>1618</th>\n",
       "      <td>NZL</td>\n",
       "      <td>New Zealand</td>\n",
       "      <td>Oceania</td>\n",
       "      <td>2008</td>\n",
       "      <td>-</td>\n",
       "      <td>10</td>\n",
       "      <td>10</td>\n",
       "      <td>10</td>\n",
       "      <td>10</td>\n",
       "      <td>10</td>\n",
       "      <td>9.42</td>\n",
       "      <td>4</td>\n",
       "      <td>8.46</td>\n",
       "      <td>3</td>\n",
       "      <td>8.94</td>\n",
       "      <td>2</td>\n",
       "    </tr>\n",
       "    <tr>\n",
       "      <th>1619</th>\n",
       "      <td>HKG</td>\n",
       "      <td>Hong Kong</td>\n",
       "      <td>East Asia</td>\n",
       "      <td>2008</td>\n",
       "      <td>-</td>\n",
       "      <td>10</td>\n",
       "      <td>10</td>\n",
       "      <td>10</td>\n",
       "      <td>10</td>\n",
       "      <td>10</td>\n",
       "      <td>9.13</td>\n",
       "      <td>12</td>\n",
       "      <td>9.11</td>\n",
       "      <td>1</td>\n",
       "      <td>9.12</td>\n",
       "      <td>1</td>\n",
       "    </tr>\n",
       "  </tbody>\n",
       "</table>\n",
       "<p>1620 rows × 16 columns</p>\n",
       "</div>"
      ],
      "text/plain": [
       "     ISO_code    countries                         region  year  \\\n",
       "0         ALB      Albania                 Eastern Europe  2017   \n",
       "1         DZA      Algeria     Middle East & North Africa  2017   \n",
       "2         AGO       Angola             Sub-Saharan Africa  2017   \n",
       "3         ARG    Argentina  Latin America & the Caribbean  2017   \n",
       "4         ARM      Armenia        Caucasus & Central Asia  2017   \n",
       "...       ...          ...                            ...   ...   \n",
       "1615      AUS    Australia                        Oceania  2008   \n",
       "1616      DNK      Denmark                 Western Europe  2008   \n",
       "1617      CHE  Switzerland                 Western Europe  2008   \n",
       "1618      NZL  New Zealand                        Oceania  2008   \n",
       "1619      HKG    Hong Kong                      East Asia  2008   \n",
       "\n",
       "     pf_identity_legal pf_identity_sex_male pf_identity_sex_female  \\\n",
       "0                    0                   10                     10   \n",
       "1                    -                    0                      0   \n",
       "2                   10                    0                      0   \n",
       "3                   10                   10                     10   \n",
       "4                    7                   10                     10   \n",
       "...                ...                  ...                    ...   \n",
       "1615                 -                   10                     10   \n",
       "1616                 -                   10                     10   \n",
       "1617                 -                   10                     10   \n",
       "1618                 -                   10                     10   \n",
       "1619                 -                   10                     10   \n",
       "\n",
       "     pf_identity_sex pf_identity_divorce pf_identity pf_score pf_rank  \\\n",
       "0                 10                 7.5         5.8     8.01      46   \n",
       "1                  0                   0           0      5.2     146   \n",
       "2                  0                   5           5     5.98     121   \n",
       "3                 10                  10          10     8.04      41   \n",
       "4                 10                 7.5         8.2     7.15      72   \n",
       "...              ...                 ...         ...      ...     ...   \n",
       "1615              10                  10          10     9.29       7   \n",
       "1616              10                  10          10     9.49       3   \n",
       "1617              10                  10          10     9.31       6   \n",
       "1618              10                  10          10     9.42       4   \n",
       "1619              10                  10          10     9.13      12   \n",
       "\n",
       "     ef_score ef_rank hf_score hf_rank  \n",
       "0        7.67      30     7.84      38  \n",
       "1        4.77     159     4.99     155  \n",
       "2        4.83     158      5.4     151  \n",
       "3        5.67     147     6.86      77  \n",
       "4         7.7      27     7.42      54  \n",
       "...       ...     ...      ...     ...  \n",
       "1615     8.18       6     8.73       4  \n",
       "1616     7.98       9     8.73       4  \n",
       "1617     8.35       4     8.83       3  \n",
       "1618     8.46       3     8.94       2  \n",
       "1619     9.11       1     9.12       1  \n",
       "\n",
       "[1620 rows x 16 columns]"
      ]
     },
     "execution_count": 6,
     "metadata": {},
     "output_type": "execute_result"
    }
   ],
   "source": [
    "dataset[important_cols]"
   ]
  },
  {
   "cell_type": "markdown",
   "metadata": {
    "colab_type": "text",
    "id": "HPC6X48OVqgN"
   },
   "source": [
    "Si analizamos los tipos, vemos que casi todas las columnas se leen como objetos debido a que los valores nulos están marcados con `-`. Los vamos a eliminar y volveremos a convertir las columnas con puntajes a tipo numérico."
   ]
  },
  {
   "cell_type": "code",
   "execution_count": 7,
   "metadata": {
    "colab": {
     "base_uri": "https://localhost:8080/",
     "height": 231
    },
    "colab_type": "code",
    "id": "An0A40SKVjxW",
    "outputId": "8cbbf6e9-c100-407a-ad50-a07b458e9511"
   },
   "outputs": [
    {
     "data": {
      "text/plain": [
       "year                                  int64\n",
       "ISO_code                             object\n",
       "countries                            object\n",
       "region                               object\n",
       "hf_score                             object\n",
       "                                      ...  \n",
       "ef_regulation_business_compliance    object\n",
       "ef_regulation_business               object\n",
       "ef_regulation                        object\n",
       "ef_score                             object\n",
       "ef_rank                              object\n",
       "Length: 120, dtype: object"
      ]
     },
     "execution_count": 7,
     "metadata": {},
     "output_type": "execute_result"
    }
   ],
   "source": [
    "dataset.dtypes"
   ]
  },
  {
   "cell_type": "code",
   "execution_count": 8,
   "metadata": {
    "colab": {
     "base_uri": "https://localhost:8080/",
     "height": 677
    },
    "colab_type": "code",
    "id": "cNSfBVH2WDVu",
    "outputId": "2bcdcc79-d263-4391-8272-4f4ac3ad04b1"
   },
   "outputs": [
    {
     "data": {
      "text/html": [
       "<div>\n",
       "<style scoped>\n",
       "    .dataframe tbody tr th:only-of-type {\n",
       "        vertical-align: middle;\n",
       "    }\n",
       "\n",
       "    .dataframe tbody tr th {\n",
       "        vertical-align: top;\n",
       "    }\n",
       "\n",
       "    .dataframe thead th {\n",
       "        text-align: right;\n",
       "    }\n",
       "</style>\n",
       "<table border=\"1\" class=\"dataframe\">\n",
       "  <thead>\n",
       "    <tr style=\"text-align: right;\">\n",
       "      <th></th>\n",
       "      <th>ISO_code</th>\n",
       "      <th>countries</th>\n",
       "      <th>region</th>\n",
       "      <th>year</th>\n",
       "      <th>pf_identity_legal</th>\n",
       "      <th>pf_identity_sex_male</th>\n",
       "      <th>pf_identity_sex_female</th>\n",
       "      <th>pf_identity_sex</th>\n",
       "      <th>pf_identity_divorce</th>\n",
       "      <th>pf_identity</th>\n",
       "      <th>pf_score</th>\n",
       "      <th>pf_rank</th>\n",
       "      <th>ef_score</th>\n",
       "      <th>ef_rank</th>\n",
       "      <th>hf_score</th>\n",
       "      <th>hf_rank</th>\n",
       "    </tr>\n",
       "  </thead>\n",
       "  <tbody>\n",
       "    <tr>\n",
       "      <th>0</th>\n",
       "      <td>ALB</td>\n",
       "      <td>Albania</td>\n",
       "      <td>Eastern Europe</td>\n",
       "      <td>2017</td>\n",
       "      <td>0.0</td>\n",
       "      <td>10.0</td>\n",
       "      <td>10.0</td>\n",
       "      <td>10.0</td>\n",
       "      <td>7.5</td>\n",
       "      <td>5.8</td>\n",
       "      <td>8.01</td>\n",
       "      <td>46.0</td>\n",
       "      <td>7.67</td>\n",
       "      <td>30.0</td>\n",
       "      <td>7.84</td>\n",
       "      <td>38.0</td>\n",
       "    </tr>\n",
       "    <tr>\n",
       "      <th>1</th>\n",
       "      <td>DZA</td>\n",
       "      <td>Algeria</td>\n",
       "      <td>Middle East &amp; North Africa</td>\n",
       "      <td>2017</td>\n",
       "      <td>NaN</td>\n",
       "      <td>0.0</td>\n",
       "      <td>0.0</td>\n",
       "      <td>0.0</td>\n",
       "      <td>0.0</td>\n",
       "      <td>0.0</td>\n",
       "      <td>5.20</td>\n",
       "      <td>146.0</td>\n",
       "      <td>4.77</td>\n",
       "      <td>159.0</td>\n",
       "      <td>4.99</td>\n",
       "      <td>155.0</td>\n",
       "    </tr>\n",
       "    <tr>\n",
       "      <th>2</th>\n",
       "      <td>AGO</td>\n",
       "      <td>Angola</td>\n",
       "      <td>Sub-Saharan Africa</td>\n",
       "      <td>2017</td>\n",
       "      <td>10.0</td>\n",
       "      <td>0.0</td>\n",
       "      <td>0.0</td>\n",
       "      <td>0.0</td>\n",
       "      <td>5.0</td>\n",
       "      <td>5.0</td>\n",
       "      <td>5.98</td>\n",
       "      <td>121.0</td>\n",
       "      <td>4.83</td>\n",
       "      <td>158.0</td>\n",
       "      <td>5.40</td>\n",
       "      <td>151.0</td>\n",
       "    </tr>\n",
       "    <tr>\n",
       "      <th>3</th>\n",
       "      <td>ARG</td>\n",
       "      <td>Argentina</td>\n",
       "      <td>Latin America &amp; the Caribbean</td>\n",
       "      <td>2017</td>\n",
       "      <td>10.0</td>\n",
       "      <td>10.0</td>\n",
       "      <td>10.0</td>\n",
       "      <td>10.0</td>\n",
       "      <td>10.0</td>\n",
       "      <td>10.0</td>\n",
       "      <td>8.04</td>\n",
       "      <td>41.0</td>\n",
       "      <td>5.67</td>\n",
       "      <td>147.0</td>\n",
       "      <td>6.86</td>\n",
       "      <td>77.0</td>\n",
       "    </tr>\n",
       "    <tr>\n",
       "      <th>4</th>\n",
       "      <td>ARM</td>\n",
       "      <td>Armenia</td>\n",
       "      <td>Caucasus &amp; Central Asia</td>\n",
       "      <td>2017</td>\n",
       "      <td>7.0</td>\n",
       "      <td>10.0</td>\n",
       "      <td>10.0</td>\n",
       "      <td>10.0</td>\n",
       "      <td>7.5</td>\n",
       "      <td>8.2</td>\n",
       "      <td>7.15</td>\n",
       "      <td>72.0</td>\n",
       "      <td>7.70</td>\n",
       "      <td>27.0</td>\n",
       "      <td>7.42</td>\n",
       "      <td>54.0</td>\n",
       "    </tr>\n",
       "    <tr>\n",
       "      <th>...</th>\n",
       "      <td>...</td>\n",
       "      <td>...</td>\n",
       "      <td>...</td>\n",
       "      <td>...</td>\n",
       "      <td>...</td>\n",
       "      <td>...</td>\n",
       "      <td>...</td>\n",
       "      <td>...</td>\n",
       "      <td>...</td>\n",
       "      <td>...</td>\n",
       "      <td>...</td>\n",
       "      <td>...</td>\n",
       "      <td>...</td>\n",
       "      <td>...</td>\n",
       "      <td>...</td>\n",
       "      <td>...</td>\n",
       "    </tr>\n",
       "    <tr>\n",
       "      <th>1615</th>\n",
       "      <td>AUS</td>\n",
       "      <td>Australia</td>\n",
       "      <td>Oceania</td>\n",
       "      <td>2008</td>\n",
       "      <td>NaN</td>\n",
       "      <td>10.0</td>\n",
       "      <td>10.0</td>\n",
       "      <td>10.0</td>\n",
       "      <td>10.0</td>\n",
       "      <td>10.0</td>\n",
       "      <td>9.29</td>\n",
       "      <td>7.0</td>\n",
       "      <td>8.18</td>\n",
       "      <td>6.0</td>\n",
       "      <td>8.73</td>\n",
       "      <td>4.0</td>\n",
       "    </tr>\n",
       "    <tr>\n",
       "      <th>1616</th>\n",
       "      <td>DNK</td>\n",
       "      <td>Denmark</td>\n",
       "      <td>Western Europe</td>\n",
       "      <td>2008</td>\n",
       "      <td>NaN</td>\n",
       "      <td>10.0</td>\n",
       "      <td>10.0</td>\n",
       "      <td>10.0</td>\n",
       "      <td>10.0</td>\n",
       "      <td>10.0</td>\n",
       "      <td>9.49</td>\n",
       "      <td>3.0</td>\n",
       "      <td>7.98</td>\n",
       "      <td>9.0</td>\n",
       "      <td>8.73</td>\n",
       "      <td>4.0</td>\n",
       "    </tr>\n",
       "    <tr>\n",
       "      <th>1617</th>\n",
       "      <td>CHE</td>\n",
       "      <td>Switzerland</td>\n",
       "      <td>Western Europe</td>\n",
       "      <td>2008</td>\n",
       "      <td>NaN</td>\n",
       "      <td>10.0</td>\n",
       "      <td>10.0</td>\n",
       "      <td>10.0</td>\n",
       "      <td>10.0</td>\n",
       "      <td>10.0</td>\n",
       "      <td>9.31</td>\n",
       "      <td>6.0</td>\n",
       "      <td>8.35</td>\n",
       "      <td>4.0</td>\n",
       "      <td>8.83</td>\n",
       "      <td>3.0</td>\n",
       "    </tr>\n",
       "    <tr>\n",
       "      <th>1618</th>\n",
       "      <td>NZL</td>\n",
       "      <td>New Zealand</td>\n",
       "      <td>Oceania</td>\n",
       "      <td>2008</td>\n",
       "      <td>NaN</td>\n",
       "      <td>10.0</td>\n",
       "      <td>10.0</td>\n",
       "      <td>10.0</td>\n",
       "      <td>10.0</td>\n",
       "      <td>10.0</td>\n",
       "      <td>9.42</td>\n",
       "      <td>4.0</td>\n",
       "      <td>8.46</td>\n",
       "      <td>3.0</td>\n",
       "      <td>8.94</td>\n",
       "      <td>2.0</td>\n",
       "    </tr>\n",
       "    <tr>\n",
       "      <th>1619</th>\n",
       "      <td>HKG</td>\n",
       "      <td>Hong Kong</td>\n",
       "      <td>East Asia</td>\n",
       "      <td>2008</td>\n",
       "      <td>NaN</td>\n",
       "      <td>10.0</td>\n",
       "      <td>10.0</td>\n",
       "      <td>10.0</td>\n",
       "      <td>10.0</td>\n",
       "      <td>10.0</td>\n",
       "      <td>9.13</td>\n",
       "      <td>12.0</td>\n",
       "      <td>9.11</td>\n",
       "      <td>1.0</td>\n",
       "      <td>9.12</td>\n",
       "      <td>1.0</td>\n",
       "    </tr>\n",
       "  </tbody>\n",
       "</table>\n",
       "<p>1620 rows × 16 columns</p>\n",
       "</div>"
      ],
      "text/plain": [
       "     ISO_code    countries                         region  year  \\\n",
       "0         ALB      Albania                 Eastern Europe  2017   \n",
       "1         DZA      Algeria     Middle East & North Africa  2017   \n",
       "2         AGO       Angola             Sub-Saharan Africa  2017   \n",
       "3         ARG    Argentina  Latin America & the Caribbean  2017   \n",
       "4         ARM      Armenia        Caucasus & Central Asia  2017   \n",
       "...       ...          ...                            ...   ...   \n",
       "1615      AUS    Australia                        Oceania  2008   \n",
       "1616      DNK      Denmark                 Western Europe  2008   \n",
       "1617      CHE  Switzerland                 Western Europe  2008   \n",
       "1618      NZL  New Zealand                        Oceania  2008   \n",
       "1619      HKG    Hong Kong                      East Asia  2008   \n",
       "\n",
       "      pf_identity_legal  pf_identity_sex_male  pf_identity_sex_female  \\\n",
       "0                   0.0                  10.0                    10.0   \n",
       "1                   NaN                   0.0                     0.0   \n",
       "2                  10.0                   0.0                     0.0   \n",
       "3                  10.0                  10.0                    10.0   \n",
       "4                   7.0                  10.0                    10.0   \n",
       "...                 ...                   ...                     ...   \n",
       "1615                NaN                  10.0                    10.0   \n",
       "1616                NaN                  10.0                    10.0   \n",
       "1617                NaN                  10.0                    10.0   \n",
       "1618                NaN                  10.0                    10.0   \n",
       "1619                NaN                  10.0                    10.0   \n",
       "\n",
       "      pf_identity_sex  pf_identity_divorce  pf_identity  pf_score  pf_rank  \\\n",
       "0                10.0                  7.5          5.8      8.01     46.0   \n",
       "1                 0.0                  0.0          0.0      5.20    146.0   \n",
       "2                 0.0                  5.0          5.0      5.98    121.0   \n",
       "3                10.0                 10.0         10.0      8.04     41.0   \n",
       "4                10.0                  7.5          8.2      7.15     72.0   \n",
       "...               ...                  ...          ...       ...      ...   \n",
       "1615             10.0                 10.0         10.0      9.29      7.0   \n",
       "1616             10.0                 10.0         10.0      9.49      3.0   \n",
       "1617             10.0                 10.0         10.0      9.31      6.0   \n",
       "1618             10.0                 10.0         10.0      9.42      4.0   \n",
       "1619             10.0                 10.0         10.0      9.13     12.0   \n",
       "\n",
       "      ef_score  ef_rank  hf_score  hf_rank  \n",
       "0         7.67     30.0      7.84     38.0  \n",
       "1         4.77    159.0      4.99    155.0  \n",
       "2         4.83    158.0      5.40    151.0  \n",
       "3         5.67    147.0      6.86     77.0  \n",
       "4         7.70     27.0      7.42     54.0  \n",
       "...        ...      ...       ...      ...  \n",
       "1615      8.18      6.0      8.73      4.0  \n",
       "1616      7.98      9.0      8.73      4.0  \n",
       "1617      8.35      4.0      8.83      3.0  \n",
       "1618      8.46      3.0      8.94      2.0  \n",
       "1619      9.11      1.0      9.12      1.0  \n",
       "\n",
       "[1620 rows x 16 columns]"
      ]
     },
     "execution_count": 8,
     "metadata": {},
     "output_type": "execute_result"
    }
   ],
   "source": [
    "dataset = dataset[important_cols].replace('-', numpy.nan)\n",
    "for score_col in score_cols:\n",
    "    dataset[score_col] = pandas.to_numeric(dataset[score_col])\n",
    "dataset"
   ]
  },
  {
   "cell_type": "markdown",
   "metadata": {
    "colab_type": "text",
    "id": "jD3nFLfXSgp7"
   },
   "source": [
    "# Parte 1\n",
    "\n",
    "Luego de las clases del primer fin de semana, ya tenemos las herramientas para responder las siguientes preguntas:"
   ]
  },
  {
   "cell_type": "markdown",
   "metadata": {
    "colab_type": "text",
    "id": "DHwEp61uFZCl"
   },
   "source": [
    "## 1. Estadísticos descriptivos\n",
    "\n",
    "  1. Para comenzar con un pantallazo de los datos, calcular el rango de las variables.\n",
    "  3. Para cada país, tenemos varias realizaciones para cada variable *pf_identity* y *hf_score*. Si queremos comparar un país con otro, ¿cuál es la manera adecuada de hacerlo? Por ejemplo, ¿nos quedamos con un único valor? ¿o comparamos todos los valores? ¿usamos el promedio? ¿usamos la mediana? \n",
    "  2. Obtener media, mediana y desviación estándar de las variables *pf_identity* y *hf_score* en el mundo y compararla con la de Latinoamérica y el caribe. Usar la respuesta del punto anterior para justificar si la comparación es válida o no.\n",
    "  3. ¿Tiene sentido calcular la moda?\n",
    "  4. ¿Cómo pueden sanearse los valores faltantes?\n",
    "  5. ¿Encuentra outliers en estas dos variables? ¿Qué método utiliza para detectarlos? Los outliers, ¿son globales o por grupo? ¿Los eliminaría del conjunto de datos?\n",
    "  \n",
    "  "
   ]
  },
  {
   "cell_type": "markdown",
   "metadata": {},
   "source": [
    "## Respuestas"
   ]
  },
  {
   "cell_type": "code",
   "execution_count": 9,
   "metadata": {},
   "outputs": [],
   "source": [
    "def summarize_iterable(values, max_len=10):\n",
    "    if len(values) > max_len:\n",
    "        summary_format = '{}, ...'\n",
    "        summary_values = values[:max_len]\n",
    "    else:\n",
    "        summary_format = '{}'\n",
    "        summary_values = values\n",
    "    summary_reprs = (repr(value) for value in summary_values)\n",
    "    return summary_format.format(', '.join(summary_reprs))"
   ]
  },
  {
   "cell_type": "markdown",
   "metadata": {},
   "source": [
    "### Ejercicio 1"
   ]
  },
  {
   "cell_type": "markdown",
   "metadata": {},
   "source": [
    "Los rangos de las variables **numéricas** son:"
   ]
  },
  {
   "cell_type": "code",
   "execution_count": 10,
   "metadata": {},
   "outputs": [
    {
     "data": {
      "text/html": [
       "<div>\n",
       "<style scoped>\n",
       "    .dataframe tbody tr th:only-of-type {\n",
       "        vertical-align: middle;\n",
       "    }\n",
       "\n",
       "    .dataframe tbody tr th {\n",
       "        vertical-align: top;\n",
       "    }\n",
       "\n",
       "    .dataframe thead th {\n",
       "        text-align: right;\n",
       "    }\n",
       "</style>\n",
       "<table border=\"1\" class=\"dataframe\">\n",
       "  <thead>\n",
       "    <tr style=\"text-align: right;\">\n",
       "      <th></th>\n",
       "      <th>year</th>\n",
       "      <th>pf_identity_legal</th>\n",
       "      <th>pf_identity_sex_male</th>\n",
       "      <th>pf_identity_sex_female</th>\n",
       "      <th>pf_identity_sex</th>\n",
       "      <th>pf_identity_divorce</th>\n",
       "      <th>pf_identity</th>\n",
       "      <th>pf_score</th>\n",
       "      <th>pf_rank</th>\n",
       "      <th>ef_score</th>\n",
       "      <th>ef_rank</th>\n",
       "      <th>hf_score</th>\n",
       "      <th>hf_rank</th>\n",
       "    </tr>\n",
       "  </thead>\n",
       "  <tbody>\n",
       "    <tr>\n",
       "      <th>min</th>\n",
       "      <td>2008.0</td>\n",
       "      <td>0.0</td>\n",
       "      <td>0.0</td>\n",
       "      <td>0.0</td>\n",
       "      <td>0.0</td>\n",
       "      <td>0.0</td>\n",
       "      <td>0.0</td>\n",
       "      <td>2.22</td>\n",
       "      <td>1.0</td>\n",
       "      <td>2.58</td>\n",
       "      <td>1.0</td>\n",
       "      <td>3.69</td>\n",
       "      <td>1.0</td>\n",
       "    </tr>\n",
       "    <tr>\n",
       "      <th>max</th>\n",
       "      <td>2017.0</td>\n",
       "      <td>10.0</td>\n",
       "      <td>10.0</td>\n",
       "      <td>10.0</td>\n",
       "      <td>10.0</td>\n",
       "      <td>10.0</td>\n",
       "      <td>10.0</td>\n",
       "      <td>9.56</td>\n",
       "      <td>162.0</td>\n",
       "      <td>9.11</td>\n",
       "      <td>162.0</td>\n",
       "      <td>9.12</td>\n",
       "      <td>162.0</td>\n",
       "    </tr>\n",
       "  </tbody>\n",
       "</table>\n",
       "</div>"
      ],
      "text/plain": [
       "       year  pf_identity_legal  pf_identity_sex_male  pf_identity_sex_female  \\\n",
       "min  2008.0                0.0                   0.0                     0.0   \n",
       "max  2017.0               10.0                  10.0                    10.0   \n",
       "\n",
       "     pf_identity_sex  pf_identity_divorce  pf_identity  pf_score  pf_rank  \\\n",
       "min              0.0                  0.0          0.0      2.22      1.0   \n",
       "max             10.0                 10.0         10.0      9.56    162.0   \n",
       "\n",
       "     ef_score  ef_rank  hf_score  hf_rank  \n",
       "min      2.58      1.0      3.69      1.0  \n",
       "max      9.11    162.0      9.12    162.0  "
      ]
     },
     "execution_count": 10,
     "metadata": {},
     "output_type": "execute_result"
    }
   ],
   "source": [
    "num_ranges_df = dataset.describe().loc[['min', 'max']]\n",
    "num_ranges_df"
   ]
  },
  {
   "cell_type": "markdown",
   "metadata": {},
   "source": [
    "Los rangos de las variables **categóricas** son:"
   ]
  },
  {
   "cell_type": "code",
   "execution_count": 11,
   "metadata": {},
   "outputs": [
    {
     "data": {
      "text/markdown": [
       "**ISO_code**:"
      ],
      "text/plain": [
       "<IPython.core.display.Markdown object>"
      ]
     },
     "metadata": {},
     "output_type": "display_data"
    },
    {
     "data": {
      "text/markdown": [
       "'AGO', 'ALB', 'ARE', 'ARG', 'ARM', 'AUS', 'AUT', 'AZE', 'BDI', 'BEL', ..."
      ],
      "text/plain": [
       "<IPython.core.display.Markdown object>"
      ]
     },
     "metadata": {},
     "output_type": "display_data"
    },
    {
     "data": {
      "text/markdown": [
       "**countries**:"
      ],
      "text/plain": [
       "<IPython.core.display.Markdown object>"
      ]
     },
     "metadata": {},
     "output_type": "display_data"
    },
    {
     "data": {
      "text/markdown": [
       "'Albania', 'Algeria', 'Angola', 'Argentina', 'Armenia', 'Australia', 'Austria', 'Azerbaijan', 'Bahamas', 'Bahrain', ..."
      ],
      "text/plain": [
       "<IPython.core.display.Markdown object>"
      ]
     },
     "metadata": {},
     "output_type": "display_data"
    },
    {
     "data": {
      "text/markdown": [
       "**region**:"
      ],
      "text/plain": [
       "<IPython.core.display.Markdown object>"
      ]
     },
     "metadata": {},
     "output_type": "display_data"
    },
    {
     "data": {
      "text/markdown": [
       "'Caucasus & Central Asia', 'East Asia', 'Eastern Europe', 'Latin America & the Caribbean', 'Middle East & North Africa', 'North America', 'Oceania', 'South Asia', 'Sub-Saharan Africa', 'Western Europe'"
      ],
      "text/plain": [
       "<IPython.core.display.Markdown object>"
      ]
     },
     "metadata": {},
     "output_type": "display_data"
    }
   ],
   "source": [
    "for cat_col_name in cat_cols:\n",
    "    col_range = set(dataset[cat_col_name])\n",
    "    display(Markdown('**{}**:'.format(cat_col_name)))\n",
    "    display(Markdown(summarize_iterable(sorted(col_range))))"
   ]
  },
  {
   "cell_type": "markdown",
   "metadata": {},
   "source": [
    "### Ejercicio 2"
   ]
  },
  {
   "cell_type": "markdown",
   "metadata": {},
   "source": [
    "Veamos cómo fueron variando hf_score y pf_identity año tras año en Argentina y Brasil para darnos una mínima idea de la evolución de estos valores:"
   ]
  },
  {
   "cell_type": "code",
   "execution_count": 12,
   "metadata": {},
   "outputs": [
    {
     "data": {
      "image/png": "[encoded data removed]",
      "text/plain": [
       "<Figure size 720x360 with 1 Axes>"
      ]
     },
     "metadata": {
      "needs_background": "light"
     },
     "output_type": "display_data"
    },
    {
     "data": {
      "image/png": "[encoded data removed]",
      "text/plain": [
       "<Figure size 720x360 with 1 Axes>"
      ]
     },
     "metadata": {
      "needs_background": "light"
     },
     "output_type": "display_data"
    }
   ],
   "source": [
    "arg_data = dataset[dataset.ISO_code == 'ARG']\n",
    "bra_data = dataset[dataset.ISO_code == 'BRA']\n",
    "\n",
    "for col_name in ['hf_score', 'pf_identity']:\n",
    "    plt.figure(figsize=(10, 5))\n",
    "    seaborn.pointplot(data=arg_data,\n",
    "                      x='year', y=col_name,\n",
    "                      dodge=True, ci=None,\n",
    "                      markers='v', linestyles='--', errwidth=1, capsize=0.2,\n",
    "                      color='blue')\n",
    "    seaborn.pointplot(data=bra_data,\n",
    "                      x='year', y=col_name,\n",
    "                      dodge=True, ci=None,\n",
    "                      markers='v', linestyles='--', errwidth=1, capsize=0.2,\n",
    "                      color='green')\n",
    "    plt.xlabel('Año')\n",
    "    plt.title('Evolución de {} en Argentina y Brasil'.format(col_name))\n",
    "    plt.legend(labels=['Argentina', 'Brasil'])"
   ]
  },
  {
   "cell_type": "markdown",
   "metadata": {},
   "source": [
    "Veamos las distribuciones de estas dos variables en el mundo; tal vez las formas nos digan algo:"
   ]
  },
  {
   "cell_type": "code",
   "execution_count": 13,
   "metadata": {},
   "outputs": [
    {
     "data": {
      "text/plain": [
       "<matplotlib.legend.Legend at 0x7fca1cdc2f98>"
      ]
     },
     "execution_count": 13,
     "metadata": {},
     "output_type": "execute_result"
    },
    {
     "data": {
      "image/png": "[encoded data removed]",
      "text/plain": [
       "<Figure size 720x360 with 1 Axes>"
      ]
     },
     "metadata": {
      "needs_background": "light"
     },
     "output_type": "display_data"
    }
   ],
   "source": [
    "plt.figure(figsize=(10, 5))\n",
    "seaborn.distplot(dataset.pf_identity, label='pf_identity en el mundo')\n",
    "seaborn.distplot(dataset.hf_score, label='hf_score en el mundo')\n",
    "plt.xlim(0, 11)\n",
    "plt.xlabel('Resultados de medidas de pf_identity y hf_score')\n",
    "plt.legend()"
   ]
  },
  {
   "cell_type": "markdown",
   "metadata": {},
   "source": [
    "Con estos gráficos podemos concluir que:\n",
    "* Si queremos los datos más actuales, podemos quedarnos con los valores del último año para cada país.\n",
    "* Si queremos datos de varios años, en cuanto a hf_score podríamos usar la media, y en cuanto a pf_identity podríamos usar la mediana debido a que esta variable tiene una distribuición más asimétrica."
   ]
  },
  {
   "cell_type": "markdown",
   "metadata": {},
   "source": [
    "### Ejercicio 3"
   ]
  },
  {
   "cell_type": "markdown",
   "metadata": {},
   "source": [
    "Primero, veamos mediana, media y desviación estándar de estas dos variables tanto para Latinoamérica y el Caribe como para todo el mundo:"
   ]
  },
  {
   "cell_type": "code",
   "execution_count": 14,
   "metadata": {},
   "outputs": [
    {
     "data": {
      "text/html": [
       "<div>\n",
       "<style scoped>\n",
       "    .dataframe tbody tr th:only-of-type {\n",
       "        vertical-align: middle;\n",
       "    }\n",
       "\n",
       "    .dataframe tbody tr th {\n",
       "        vertical-align: top;\n",
       "    }\n",
       "\n",
       "    .dataframe thead th {\n",
       "        text-align: right;\n",
       "    }\n",
       "</style>\n",
       "<table border=\"1\" class=\"dataframe\">\n",
       "  <thead>\n",
       "    <tr style=\"text-align: right;\">\n",
       "      <th></th>\n",
       "      <th>Latin America &amp; the Caribbean</th>\n",
       "      <th>World</th>\n",
       "    </tr>\n",
       "  </thead>\n",
       "  <tbody>\n",
       "    <tr>\n",
       "      <th>pf_identity_median</th>\n",
       "      <td>10.000000</td>\n",
       "      <td>8.800000</td>\n",
       "    </tr>\n",
       "    <tr>\n",
       "      <th>hf_score_median</th>\n",
       "      <td>7.020000</td>\n",
       "      <td>6.900000</td>\n",
       "    </tr>\n",
       "    <tr>\n",
       "      <th>pf_identity_mean</th>\n",
       "      <td>8.582171</td>\n",
       "      <td>7.280649</td>\n",
       "    </tr>\n",
       "    <tr>\n",
       "      <th>hf_score_mean</th>\n",
       "      <td>7.036977</td>\n",
       "      <td>6.978214</td>\n",
       "    </tr>\n",
       "    <tr>\n",
       "      <th>pf_identity_std</th>\n",
       "      <td>1.875832</td>\n",
       "      <td>3.181577</td>\n",
       "    </tr>\n",
       "    <tr>\n",
       "      <th>hf_score_std</th>\n",
       "      <td>0.634897</td>\n",
       "      <td>1.056239</td>\n",
       "    </tr>\n",
       "  </tbody>\n",
       "</table>\n",
       "</div>"
      ],
      "text/plain": [
       "                    Latin America & the Caribbean     World\n",
       "pf_identity_median                      10.000000  8.800000\n",
       "hf_score_median                          7.020000  6.900000\n",
       "pf_identity_mean                         8.582171  7.280649\n",
       "hf_score_mean                            7.036977  6.978214\n",
       "pf_identity_std                          1.875832  3.181577\n",
       "hf_score_std                             0.634897  1.056239"
      ]
     },
     "execution_count": 14,
     "metadata": {},
     "output_type": "execute_result"
    }
   ],
   "source": [
    "# Info from Latin America & the Caribbean\n",
    "lac_data = dataset[dataset.region == 'Latin America & the Caribbean'][['pf_identity', 'hf_score']]\n",
    "lac_median = lac_data.median().add_suffix('_median')\n",
    "lac_mean = lac_data.mean().add_suffix('_mean')\n",
    "lac_std = lac_data.std().add_suffix('_std')\n",
    "lac_info = pandas.concat([lac_median, lac_mean, lac_std], axis=0)\n",
    "\n",
    "# World info\n",
    "world_data = dataset[['pf_identity', 'hf_score']]\n",
    "world_median = world_data.median().add_suffix('_median')\n",
    "world_mean = world_data.mean().add_suffix('_mean')\n",
    "world_std = world_data.std().add_suffix('_std')\n",
    "world_info = pandas.concat([world_median, world_mean, world_std], axis=0)\n",
    "\n",
    "# Compared info\n",
    "compared_info = pandas.concat([lac_info, world_info], axis=1)\n",
    "compared_info.columns = ['Latin America & the Caribbean', 'World']\n",
    "compared_info"
   ]
  },
  {
   "cell_type": "markdown",
   "metadata": {},
   "source": [
    "Ahora comparemos distribuciones:"
   ]
  },
  {
   "cell_type": "code",
   "execution_count": 15,
   "metadata": {},
   "outputs": [
    {
     "data": {
      "text/plain": [
       "<matplotlib.legend.Legend at 0x7fca1ccab4a8>"
      ]
     },
     "execution_count": 15,
     "metadata": {},
     "output_type": "execute_result"
    },
    {
     "data": {
      "image/png": "[encoded data removed]",
      "text/plain": [
       "<Figure size 720x360 with 1 Axes>"
      ]
     },
     "metadata": {
      "needs_background": "light"
     },
     "output_type": "display_data"
    },
    {
     "data": {
      "image/png": "[encoded data removed]",
      "text/plain": [
       "<Figure size 720x360 with 1 Axes>"
      ]
     },
     "metadata": {
      "needs_background": "light"
     },
     "output_type": "display_data"
    }
   ],
   "source": [
    "plt.figure(figsize=(10, 5))\n",
    "seaborn.distplot(world_data.pf_identity, label='pf_identity en el mundo')\n",
    "seaborn.distplot(lac_data.pf_identity, label='pf_identity en Latinoamérica y el Caribe')\n",
    "plt.xlim(0, 10)\n",
    "plt.title('Distribuciones de pf_identity')\n",
    "plt.legend()\n",
    "\n",
    "plt.figure(figsize=(10, 5))\n",
    "seaborn.distplot(world_data.hf_score, label='hf_score en el mundo')\n",
    "seaborn.distplot(lac_data.hf_score, label='hf_score en Latinoamérica y el Caribe')\n",
    "plt.xlim(0, 10)\n",
    "plt.title('Distribuciones de hf_score')\n",
    "plt.legend()"
   ]
  },
  {
   "cell_type": "markdown",
   "metadata": {},
   "source": [
    "Con estas observaciones concluimos que la comparación es válida siempre y cuando:\n",
    "* Para la variable **pf_identity** (cuya distribución es bastante asimétrica) se use la **mediana**.\n",
    "* Para la variable **hf_score** (cuya distribución es bastante simétrica, \"más normal\"), se use la **media**."
   ]
  },
  {
   "cell_type": "markdown",
   "metadata": {},
   "source": [
    "### Ejercicio 4"
   ]
  },
  {
   "cell_type": "markdown",
   "metadata": {},
   "source": [
    "La moda no tiene sentido ya que contamos con las otras dos medidas resumen (media y mediana)."
   ]
  },
  {
   "cell_type": "markdown",
   "metadata": {},
   "source": [
    "### Ejercicio 5"
   ]
  },
  {
   "cell_type": "markdown",
   "metadata": {},
   "source": [
    "* `pf_identity_legal` tiene pocos datos, así que quizá pueda eliminarse la columna completa.\n",
    "* En algunas filas los valores son casi todos `NaN`, por lo tanto estas filas quizá puedan eliminarse completamente. Veamos cuántas son:"
   ]
  },
  {
   "cell_type": "code",
   "execution_count": 35,
   "metadata": {},
   "outputs": [
    {
     "data": {
      "text/markdown": [
       "Filas sin datos: 80 (~ 5%)"
      ],
      "text/plain": [
       "<IPython.core.display.Markdown object>"
      ]
     },
     "metadata": {},
     "output_type": "display_data"
    }
   ],
   "source": [
    "def row_has_data(row, prop_of_nans=0.2):\n",
    "    \"\"\"\n",
    "    Returns `True` iff a the number of `NaN`s in a row is low.\n",
    "    \"\"\"\n",
    "    return row.isna().sum() / len(row) < prop_of_nans\n",
    "\n",
    "\n",
    "rows_with_data = dataset[dataset.apply(row_has_data, axis=1)]\n",
    "prop_rows_with_data = len(rows_with_data) / len(dataset)\n",
    "display(Markdown('Filas sin datos: {} (~ {}%)'.format(\n",
    "    len(dataset) - len(rows_with_data),\n",
    "    round(100 * (1 - len(rows_with_data) / len(dataset)))\n",
    ")))"
   ]
  },
  {
   "cell_type": "markdown",
   "metadata": {},
   "source": [
    "Como son pocas filas, tal vez podamos eliminarlas."
   ]
  },
  {
   "cell_type": "markdown",
   "metadata": {},
   "source": [
    "### Ejercicio 6"
   ]
  },
  {
   "cell_type": "markdown",
   "metadata": {},
   "source": [
    "Un gráfico de caja nos permitirá ver a simple vista si hay outliers a nivel global:"
   ]
  },
  {
   "cell_type": "code",
   "execution_count": 36,
   "metadata": {},
   "outputs": [
    {
     "data": {
      "text/plain": [
       "(array([0, 1]), <a list of 2 Text xticklabel objects>)"
      ]
     },
     "execution_count": 36,
     "metadata": {},
     "output_type": "execute_result"
    },
    {
     "data": {
      "image/png": "[encoded data removed]",
      "text/plain": [
       "<Figure size 720x720 with 1 Axes>"
      ]
     },
     "metadata": {
      "needs_background": "light"
     },
     "output_type": "display_data"
    }
   ],
   "source": [
    "plt.figure(figsize=(10, 10))\n",
    "data = dataset[['hf_score', 'pf_identity']]\n",
    "seaborn.boxplot(data=data, color='blue')\n",
    "plt.title('hf_score y pf_identity en el mundo')\n",
    "plt.xticks(rotation=45)"
   ]
  },
  {
   "cell_type": "markdown",
   "metadata": {},
   "source": [
    "Definamos algunas funciones útiles; las vamos a utilizar para obtener filas con outliers:"
   ]
  },
  {
   "cell_type": "code",
   "execution_count": 18,
   "metadata": {},
   "outputs": [],
   "source": [
    "def get_rows_with_low_outliers(dataframe, column_name, std_multiplier=2.5):\n",
    "    \"\"\"\n",
    "    Returns a data frame of rows with low outliers in a particular column.\n",
    "    \"\"\"\n",
    "    interesting_col = dataframe[column_name]\n",
    "    return dataframe[\n",
    "        interesting_col.mean() - interesting_col > (std_multiplier * interesting_col.std())\n",
    "    ]\n",
    "\n",
    "def get_rows_with_high_outliers(dataframe, column_name, std_multiplier=2.5):\n",
    "    \"\"\"\n",
    "    Returns a data frame of rows with high outliers in a particular column.\n",
    "    \"\"\"\n",
    "    interesting_col = dataframe[column_name]\n",
    "    return dataframe[\n",
    "        interesting_col - interesting_col.mean() > (std_multiplier * interesting_col.std())\n",
    "    ]"
   ]
  },
  {
   "cell_type": "markdown",
   "metadata": {},
   "source": [
    "Analicemos los outliers bajos y altos a nivel global:"
   ]
  },
  {
   "cell_type": "code",
   "execution_count": 19,
   "metadata": {},
   "outputs": [
    {
     "data": {
      "text/markdown": [
       "Países con al menos un outlier **alto** en `hf_score` en el mundo: -"
      ],
      "text/plain": [
       "<IPython.core.display.Markdown object>"
      ]
     },
     "metadata": {},
     "output_type": "display_data"
    },
    {
     "data": {
      "text/markdown": [
       "Países con al menos un outlier **bajo** en `hf_score` en el mundo: Iraq, Syria, Venezuela, Yemen, Rep., Sudan"
      ],
      "text/plain": [
       "<IPython.core.display.Markdown object>"
      ]
     },
     "metadata": {},
     "output_type": "display_data"
    },
    {
     "data": {
      "text/markdown": [
       "Países con al menos un outlier **alto** en `pf_identity` en el mundo: -"
      ],
      "text/plain": [
       "<IPython.core.display.Markdown object>"
      ]
     },
     "metadata": {},
     "output_type": "display_data"
    },
    {
     "data": {
      "text/markdown": [
       "Países con al menos un outlier **bajo** en `pf_identity` en el mundo: -"
      ],
      "text/plain": [
       "<IPython.core.display.Markdown object>"
      ]
     },
     "metadata": {},
     "output_type": "display_data"
    }
   ],
   "source": [
    "for col_name in ['hf_score', 'pf_identity']:\n",
    "    rows_with_outliers = get_rows_with_high_outliers(dataset, col_name)\n",
    "    country_names = set(rows_with_outliers.countries)\n",
    "    display(Markdown(\n",
    "        'Países con al menos un outlier **alto** en `{}` en el mundo: {}'.format(\n",
    "            col_name,\n",
    "            ', '.join(country_names) or '-'\n",
    "        )\n",
    "    ))\n",
    "\n",
    "    rows_with_outliers = get_rows_with_low_outliers(dataset, col_name)\n",
    "    country_names = set(rows_with_outliers.countries)\n",
    "    display(Markdown(\n",
    "        'Países con al menos un outlier **bajo** en `{}` en el mundo: {}'.format(\n",
    "            col_name,\n",
    "            ', '.join(country_names) or '-'\n",
    "        )\n",
    "    ))  "
   ]
  },
  {
   "cell_type": "markdown",
   "metadata": {},
   "source": [
    "Ahora, analicemos los outliers bajos y altos por región:"
   ]
  },
  {
   "cell_type": "code",
   "execution_count": 20,
   "metadata": {},
   "outputs": [
    {
     "data": {
      "text/markdown": [
       "Países con al menos un outlier **alto** en `hf_score` por región:"
      ],
      "text/plain": [
       "<IPython.core.display.Markdown object>"
      ]
     },
     "metadata": {},
     "output_type": "display_data"
    },
    {
     "data": {
      "text/markdown": [
       "* **Sub-Saharan Africa**: Mauritius"
      ],
      "text/plain": [
       "<IPython.core.display.Markdown object>"
      ]
     },
     "metadata": {},
     "output_type": "display_data"
    },
    {
     "data": {
      "text/markdown": [
       "Países con al menos un outlier **bajo** en `hf_score` por región:"
      ],
      "text/plain": [
       "<IPython.core.display.Markdown object>"
      ]
     },
     "metadata": {},
     "output_type": "display_data"
    },
    {
     "data": {
      "text/markdown": [
       "* **Western Europe**: Iceland"
      ],
      "text/plain": [
       "<IPython.core.display.Markdown object>"
      ]
     },
     "metadata": {},
     "output_type": "display_data"
    },
    {
     "data": {
      "text/markdown": [
       "* **Eastern Europe**: Russia, Ukraine, Belarus"
      ],
      "text/plain": [
       "<IPython.core.display.Markdown object>"
      ]
     },
     "metadata": {},
     "output_type": "display_data"
    },
    {
     "data": {
      "text/markdown": [
       "* **Sub-Saharan Africa**: Sudan"
      ],
      "text/plain": [
       "<IPython.core.display.Markdown object>"
      ]
     },
     "metadata": {},
     "output_type": "display_data"
    },
    {
     "data": {
      "text/markdown": [
       "* **Latin America & the Caribbean**: Venezuela"
      ],
      "text/plain": [
       "<IPython.core.display.Markdown object>"
      ]
     },
     "metadata": {},
     "output_type": "display_data"
    },
    {
     "data": {
      "text/markdown": [
       "* **South Asia**: Myanmar"
      ],
      "text/plain": [
       "<IPython.core.display.Markdown object>"
      ]
     },
     "metadata": {},
     "output_type": "display_data"
    },
    {
     "data": {
      "text/markdown": [
       "Países con al menos un outlier **alto** en `pf_identity` por región:"
      ],
      "text/plain": [
       "<IPython.core.display.Markdown object>"
      ]
     },
     "metadata": {},
     "output_type": "display_data"
    },
    {
     "data": {
      "text/markdown": [
       "Países con al menos un outlier **bajo** en `pf_identity` por región:"
      ],
      "text/plain": [
       "<IPython.core.display.Markdown object>"
      ]
     },
     "metadata": {},
     "output_type": "display_data"
    },
    {
     "data": {
      "text/markdown": [
       "* **Oceania**: Pap. New Guinea"
      ],
      "text/plain": [
       "<IPython.core.display.Markdown object>"
      ]
     },
     "metadata": {},
     "output_type": "display_data"
    },
    {
     "data": {
      "text/markdown": [
       "* **Western Europe**: Netherlands"
      ],
      "text/plain": [
       "<IPython.core.display.Markdown object>"
      ]
     },
     "metadata": {},
     "output_type": "display_data"
    },
    {
     "data": {
      "text/markdown": [
       "* **Eastern Europe**: Albania, Greece"
      ],
      "text/plain": [
       "<IPython.core.display.Markdown object>"
      ]
     },
     "metadata": {},
     "output_type": "display_data"
    },
    {
     "data": {
      "text/markdown": [
       "* **East Asia**: Mongolia, Japan"
      ],
      "text/plain": [
       "<IPython.core.display.Markdown object>"
      ]
     },
     "metadata": {},
     "output_type": "display_data"
    },
    {
     "data": {
      "text/markdown": [
       "* **Caucasus & Central Asia**: Tajikistan"
      ],
      "text/plain": [
       "<IPython.core.display.Markdown object>"
      ]
     },
     "metadata": {},
     "output_type": "display_data"
    }
   ],
   "source": [
    "region_names = set(dataset.region)\n",
    "\n",
    "for col_name in ['hf_score', 'pf_identity']:    \n",
    "    display(Markdown(\n",
    "        'Países con al menos un outlier **alto** en `{}` por región:'.format(col_name)\n",
    "    ))\n",
    "    for region_name in region_names:\n",
    "        country_names = set(get_rows_with_high_outliers(dataset[dataset.region == region_name], col_name).countries)\n",
    "        if country_names:\n",
    "            display(Markdown('* **{}**: {}'.format(region_name, ', '.join(country_names))))\n",
    "\n",
    "    display(Markdown(\n",
    "        'Países con al menos un outlier **bajo** en `{}` por región:'.format(col_name)\n",
    "    ))\n",
    "    for region_name in region_names:\n",
    "        country_names = set(get_rows_with_low_outliers(dataset[dataset.region == region_name], col_name).countries)\n",
    "        if country_names:\n",
    "            display(Markdown('* **{}**: {}'.format(region_name, ', '.join(country_names))))"
   ]
  },
  {
   "cell_type": "markdown",
   "metadata": {},
   "source": [
    "Podemos confirmar que outliers tanto globales como regionales. Hay algunos que son globales y regionales (`hf_score` de Venezuela por ejemplo), hay otros que son globales pero no regionales (`hf_score` de Siria por ejemplo), y otros regionales que no son globales (`pf_identity` de Japón por ejemplo).\n",
    "\n",
    "Me parece que son datos políticamente importantes. Nos dan una idea de qué países han alcanzado últimamente niveles excepcionalmente altos y bajos en estas variables. En posteriores investigaciones, podrían ayudarnos a distinguir buenas políticas de malas políticas. No eliminaría estos datos."
   ]
  },
  {
   "cell_type": "markdown",
   "metadata": {
    "colab_type": "text",
    "id": "kwzDqGtfFZCm"
   },
   "source": [
    "## 2. Agregación de datos\n",
    "\n",
    "1. Grafiquen la media de la variable *pf_identity* y *hf_score* a través de los años.\n",
    "2. Realicen los mismos gráficos, pero separando por regiones (Cada variable en un gráfico distinto, sino no se ve nada). ¿La tendencia observada, es la misma que si no dividimos por regiones?\n",
    "3. Si lo consideran necesario, grafiquen algunos países de Latinoamerica para tratar de explicar la tendencia de la variable *pf_identity* en la región. ¿Cómo seleccionarion los países relevantes a esa tendencia?\n",
    "\n",
    "Pista: hay gráficos de seaborn que permiten generar visualizaciones para cada valor de una variable categórica, en este caso, las distintas regiones.\n",
    "\n",
    "Sólo por curiosidad, graficar la tendencia de *hf_score* y *ef_score* a través de los años. ¿Tienen alguna hipótesis para este comportamiento?"
   ]
  },
  {
   "cell_type": "markdown",
   "metadata": {
    "colab_type": "text",
    "id": "z7cBpSPrFZCn"
   },
   "source": [
    "## 3. Distribuciones\n",
    "  1. Graficar en un mismo histograma la distribución de la variable *pf_identity* en global, y en Latinoamérica y el caribe. Repetir para la variable *hf_score*. ¿Visualmente, a qué tipo de distribución corresponde cada variable? ¿Es correcto utilizar todos el conjunto de valores disponibles para esa region en estos gráficos?\n"
   ]
  },
  {
   "cell_type": "markdown",
   "metadata": {
    "colab_type": "text",
    "id": "lEwQJIulFZCo"
   },
   "source": [
    "## 4. Correlaciones y Relaciones\n",
    "\n",
    "En este ejercicio queremos responder a las preguntas\n",
    "\n",
    "* Las libertades personales y económicas, ¿van siempre de la mano?\n",
    "* ¿Cómo se relacionan ambas con las libertades respectivas a las relaciones personales?\n",
    "\n",
    "Para ello, analizaremos las correlaciones entre las variables pf_identity, pf_score y ef_score. \n",
    "\n",
    "Como pf_indentity contribuye al cálculo de pf_score esperamos hallar algún grado de correlación. Lo contrario podría ocurrir con ef_score. \n",
    "\n",
    "1. ¿Qué conclusiones puede sacar de un gráfico pairplot de estas tres variables? ¿Es adecuado para los valores de pf_identity? ¿Por qué?\n",
    "2. Graficar la correlación (visual) entre pf_identity y pf_score; y entre pf_identity y ef_score. Analizar el resultado, ¿se pueden sacar conclusiones? Tengan en cuenta que como pf_identity es el resultado de un promedio, sólo toma algunos valores. Es, en la práctica, discreta, y eso afecta al tipo de gráfico que podemos usar.\n",
    "3. Convertir estas variables en categóricas, es decir, a partir de pf_indentity generar otra variable pf_identity_segment que tome los valores `high`, `medium` y `low`. Pueden hacerlo con una función escrita por ustedes, o usando alguna función de pandas como `pandas.cut` o `pandas.dcut`. Repetir para ef_score y pf_score. El criterio para decidir qué intervalos de valores corresponden a cada categoría tienen que decidirlo ustedes, pueden usar los estadísticos mediana y los cuartiles.\n",
    "4. Graficar la correlación (visual) entre estas tres variables categoricas usando gráficos de calor (heatmaps). Note: van a necesitar 3 gráficos distintos, porque en cada uno podemos incluir sólo 2 variables.\n",
    "\n"
   ]
  },
  {
   "cell_type": "markdown",
   "metadata": {
    "colab_type": "text",
    "id": "3uybvRrGSyA6"
   },
   "source": [
    "# Parte 2\n",
    "\n",
    "Luego del segundo fin de semana de clase, podemos revisitar nuestro trabajo anterior y completarlo respondiendo a las siguientes preguntas:"
   ]
  },
  {
   "cell_type": "markdown",
   "metadata": {
    "colab_type": "text",
    "id": "OF4LTznCS6SD"
   },
   "source": [
    "## 3. Distribuciones\n",
    "\n",
    "2. Realizar una prueba de Kolmogorov-Smirnof para comprobar analíticamente si estas variables responden la distribución propuesta en el ejercicio anterior. Hint: podés usar https://docs.scipy.org/doc/scipy-0.14.0/reference/generated/scipy.stats.kstest.html, pero hay que tener en cuenta que si la distribución es \"norm\", entonces va a comparar los datos con una distribución normal con media 0 y desviación estándar 1. Se puede utilizar la distribución sobre todos los datos o sólo sobre Latinoamérica."
   ]
  },
  {
   "cell_type": "markdown",
   "metadata": {
    "colab_type": "text",
    "id": "WWmCi_wRTYAB"
   },
   "source": [
    "## 4. Correlaciones\n",
    "\n",
    "3. Calcular algún coeficiente de correlación adecuado entre los dos pares de variables, dependiendo de la cantidad de datos, el tipo de datos y la distribución de los mismo. Algunas opciones son: coeficiente de pearson, coeficiente de spearman, coeficientes de tau y de kendall. Interpretar los resultados y justificar si las variables están correlacionadas o no. \n",
    "4. [Opcional] Analizar la correlación entre la region y el pf_score (y/o el ef_score); y entre la region y el pf_identity. Considerar que como la variable *region* es ordinal, debe utilizarse algún tipo de test. Explicar cuáles son los requisitos necesarios para la aplicación de ese test. (Si no se cumplieran, se pueden agregar algunos datos para generar más registros). Genere nuevas variables categóricas ordinales para calcular la correlación Tau de Kendal y genere una tabla de contingencia con esas nuevas variables."
   ]
  },
  {
   "cell_type": "markdown",
   "metadata": {
    "colab_type": "text",
    "id": "WqoHOee9UC7n"
   },
   "source": [
    "Además de completar estos puntos faltantes, luego de haber visitado los conceptos de percepción visual y comunicación efectiva, están en condiciones de reveer los gráficos realizados y evaluar si pueden ser mejorados. Para ello, puede hacerse las siguientes preguntas:\n",
    "\n",
    "* ¿Están utilizando el tipo de gráfico adecuado para cada tipo de variable?\n",
    "* Los gráficos, ¿son legibles?\n",
    "* Los gráficos generados, ¿responden a las preguntas mostrando un patrón claro? En caso de que no, ¿podemos filtrar los datos para que el patrón sea más evidente? ¿o agruparlos de manera distinta? ¿o cambiar el tipo de gráfico?"
   ]
  },
  {
   "cell_type": "code",
   "execution_count": null,
   "metadata": {
    "colab": {},
    "colab_type": "code",
    "id": "D6KDiX_FFZCp"
   },
   "outputs": [],
   "source": []
  }
 ],
 "metadata": {
  "colab": {
   "name": "practico1.ipynb",
   "provenance": []
  },
  "kernelspec": {
   "display_name": "Python 3",
   "language": "python",
   "name": "python3"
  },
  "language_info": {
   "codemirror_mode": {
    "name": "ipython",
    "version": 3
   },
   "file_extension": ".py",
   "mimetype": "text/x-python",
   "name": "python",
   "nbconvert_exporter": "python",
   "pygments_lexer": "ipython3",
   "version": "3.6.10"
  }
 },
 "nbformat": 4,
 "nbformat_minor": 4
}
