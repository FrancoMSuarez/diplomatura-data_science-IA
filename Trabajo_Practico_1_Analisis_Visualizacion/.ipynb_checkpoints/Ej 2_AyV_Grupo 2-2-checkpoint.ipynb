{
 "cells": [
  {
   "cell_type": "markdown",
   "metadata": {},
   "source": [
    "# <font color=dodgerblue>Parte 2</font>"
   ]
  },
  {
   "cell_type": "code",
   "execution_count": 4,
   "metadata": {
    "colab": {
     "base_uri": "https://localhost:8080/",
     "height": 73
    },
    "colab_type": "code",
    "id": "xZoxu5phFZCK",
    "outputId": "316448bd-61a0-4fc4-e2d0-7abfce040abd"
   },
   "outputs": [],
   "source": [
    "import matplotlib.pyplot as plt\n",
    "import numpy\n",
    "import pandas\n",
    "import seaborn"
   ]
  },
  {
   "cell_type": "code",
   "execution_count": 5,
   "metadata": {
    "colab": {
     "base_uri": "https://localhost:8080/",
     "height": 35
    },
    "colab_type": "code",
    "id": "-QOtVVUOFZCU",
    "outputId": "9ab2645c-ce83-4ffc-c61b-2477a50f068c"
   },
   "outputs": [
    {
     "data": {
      "text/plain": [
       "(1620, 120)"
      ]
     },
     "execution_count": 5,
     "metadata": {},
     "output_type": "execute_result"
    }
   ],
   "source": [
    "dataset = pandas.read_csv(\n",
    "    'https://object.cato.org/sites/cato.org/files/human-freedom-index-files/human-freedom-index-2019.csv')\n",
    "dataset.shape"
   ]
  },
  {
   "cell_type": "code",
   "execution_count": 6,
   "metadata": {
    "colab": {},
    "colab_type": "code",
    "id": "EQCW-sJSFZCd"
   },
   "outputs": [],
   "source": [
    "score_cols = [col for col in dataset.columns if 'pf_identity' in col] + [\n",
    "    'pf_score', # Personal Freedom (score)\n",
    "    'pf_rank', # Personal Freedom (rank)\n",
    "    'ef_score', # Economic Freedom (score)\n",
    "    'ef_rank', # Economic Freedom (rank)\n",
    "    'hf_score', # Human Freedom (score)\n",
    "    'hf_rank', # Human Freedom (rank)\n",
    "]\n",
    "\n",
    "important_cols = ['year', 'ISO_code', 'countries', 'region'] + score_cols"
   ]
  },
  {
   "cell_type": "code",
   "execution_count": 7,
   "metadata": {
    "colab": {
     "base_uri": "https://localhost:8080/",
     "height": 677
    },
    "colab_type": "code",
    "id": "cNSfBVH2WDVu",
    "outputId": "2bcdcc79-d263-4391-8272-4f4ac3ad04b1"
   },
   "outputs": [
    {
     "data": {
      "text/html": [
       "<div>\n",
       "<style scoped>\n",
       "    .dataframe tbody tr th:only-of-type {\n",
       "        vertical-align: middle;\n",
       "    }\n",
       "\n",
       "    .dataframe tbody tr th {\n",
       "        vertical-align: top;\n",
       "    }\n",
       "\n",
       "    .dataframe thead th {\n",
       "        text-align: right;\n",
       "    }\n",
       "</style>\n",
       "<table border=\"1\" class=\"dataframe\">\n",
       "  <thead>\n",
       "    <tr style=\"text-align: right;\">\n",
       "      <th></th>\n",
       "      <th>year</th>\n",
       "      <th>ISO_code</th>\n",
       "      <th>countries</th>\n",
       "      <th>region</th>\n",
       "      <th>pf_identity_legal</th>\n",
       "      <th>pf_identity_sex_male</th>\n",
       "      <th>pf_identity_sex_female</th>\n",
       "      <th>pf_identity_sex</th>\n",
       "      <th>pf_identity_divorce</th>\n",
       "      <th>pf_identity</th>\n",
       "      <th>pf_score</th>\n",
       "      <th>pf_rank</th>\n",
       "      <th>ef_score</th>\n",
       "      <th>ef_rank</th>\n",
       "      <th>hf_score</th>\n",
       "      <th>hf_rank</th>\n",
       "    </tr>\n",
       "  </thead>\n",
       "  <tbody>\n",
       "    <tr>\n",
       "      <th>0</th>\n",
       "      <td>2017</td>\n",
       "      <td>ALB</td>\n",
       "      <td>Albania</td>\n",
       "      <td>Eastern Europe</td>\n",
       "      <td>0.0</td>\n",
       "      <td>10.0</td>\n",
       "      <td>10.0</td>\n",
       "      <td>10.0</td>\n",
       "      <td>7.5</td>\n",
       "      <td>5.8</td>\n",
       "      <td>8.01</td>\n",
       "      <td>46.0</td>\n",
       "      <td>7.67</td>\n",
       "      <td>30.0</td>\n",
       "      <td>7.84</td>\n",
       "      <td>38.0</td>\n",
       "    </tr>\n",
       "    <tr>\n",
       "      <th>1</th>\n",
       "      <td>2017</td>\n",
       "      <td>DZA</td>\n",
       "      <td>Algeria</td>\n",
       "      <td>Middle East &amp; North Africa</td>\n",
       "      <td>NaN</td>\n",
       "      <td>0.0</td>\n",
       "      <td>0.0</td>\n",
       "      <td>0.0</td>\n",
       "      <td>0.0</td>\n",
       "      <td>0.0</td>\n",
       "      <td>5.20</td>\n",
       "      <td>146.0</td>\n",
       "      <td>4.77</td>\n",
       "      <td>159.0</td>\n",
       "      <td>4.99</td>\n",
       "      <td>155.0</td>\n",
       "    </tr>\n",
       "    <tr>\n",
       "      <th>2</th>\n",
       "      <td>2017</td>\n",
       "      <td>AGO</td>\n",
       "      <td>Angola</td>\n",
       "      <td>Sub-Saharan Africa</td>\n",
       "      <td>10.0</td>\n",
       "      <td>0.0</td>\n",
       "      <td>0.0</td>\n",
       "      <td>0.0</td>\n",
       "      <td>5.0</td>\n",
       "      <td>5.0</td>\n",
       "      <td>5.98</td>\n",
       "      <td>121.0</td>\n",
       "      <td>4.83</td>\n",
       "      <td>158.0</td>\n",
       "      <td>5.40</td>\n",
       "      <td>151.0</td>\n",
       "    </tr>\n",
       "    <tr>\n",
       "      <th>3</th>\n",
       "      <td>2017</td>\n",
       "      <td>ARG</td>\n",
       "      <td>Argentina</td>\n",
       "      <td>Latin America &amp; the Caribbean</td>\n",
       "      <td>10.0</td>\n",
       "      <td>10.0</td>\n",
       "      <td>10.0</td>\n",
       "      <td>10.0</td>\n",
       "      <td>10.0</td>\n",
       "      <td>10.0</td>\n",
       "      <td>8.04</td>\n",
       "      <td>41.0</td>\n",
       "      <td>5.67</td>\n",
       "      <td>147.0</td>\n",
       "      <td>6.86</td>\n",
       "      <td>77.0</td>\n",
       "    </tr>\n",
       "    <tr>\n",
       "      <th>4</th>\n",
       "      <td>2017</td>\n",
       "      <td>ARM</td>\n",
       "      <td>Armenia</td>\n",
       "      <td>Caucasus &amp; Central Asia</td>\n",
       "      <td>7.0</td>\n",
       "      <td>10.0</td>\n",
       "      <td>10.0</td>\n",
       "      <td>10.0</td>\n",
       "      <td>7.5</td>\n",
       "      <td>8.2</td>\n",
       "      <td>7.15</td>\n",
       "      <td>72.0</td>\n",
       "      <td>7.70</td>\n",
       "      <td>27.0</td>\n",
       "      <td>7.42</td>\n",
       "      <td>54.0</td>\n",
       "    </tr>\n",
       "    <tr>\n",
       "      <th>...</th>\n",
       "      <td>...</td>\n",
       "      <td>...</td>\n",
       "      <td>...</td>\n",
       "      <td>...</td>\n",
       "      <td>...</td>\n",
       "      <td>...</td>\n",
       "      <td>...</td>\n",
       "      <td>...</td>\n",
       "      <td>...</td>\n",
       "      <td>...</td>\n",
       "      <td>...</td>\n",
       "      <td>...</td>\n",
       "      <td>...</td>\n",
       "      <td>...</td>\n",
       "      <td>...</td>\n",
       "      <td>...</td>\n",
       "    </tr>\n",
       "    <tr>\n",
       "      <th>1615</th>\n",
       "      <td>2008</td>\n",
       "      <td>AUS</td>\n",
       "      <td>Australia</td>\n",
       "      <td>Oceania</td>\n",
       "      <td>NaN</td>\n",
       "      <td>10.0</td>\n",
       "      <td>10.0</td>\n",
       "      <td>10.0</td>\n",
       "      <td>10.0</td>\n",
       "      <td>10.0</td>\n",
       "      <td>9.29</td>\n",
       "      <td>7.0</td>\n",
       "      <td>8.18</td>\n",
       "      <td>6.0</td>\n",
       "      <td>8.73</td>\n",
       "      <td>4.0</td>\n",
       "    </tr>\n",
       "    <tr>\n",
       "      <th>1616</th>\n",
       "      <td>2008</td>\n",
       "      <td>DNK</td>\n",
       "      <td>Denmark</td>\n",
       "      <td>Western Europe</td>\n",
       "      <td>NaN</td>\n",
       "      <td>10.0</td>\n",
       "      <td>10.0</td>\n",
       "      <td>10.0</td>\n",
       "      <td>10.0</td>\n",
       "      <td>10.0</td>\n",
       "      <td>9.49</td>\n",
       "      <td>3.0</td>\n",
       "      <td>7.98</td>\n",
       "      <td>9.0</td>\n",
       "      <td>8.73</td>\n",
       "      <td>4.0</td>\n",
       "    </tr>\n",
       "    <tr>\n",
       "      <th>1617</th>\n",
       "      <td>2008</td>\n",
       "      <td>CHE</td>\n",
       "      <td>Switzerland</td>\n",
       "      <td>Western Europe</td>\n",
       "      <td>NaN</td>\n",
       "      <td>10.0</td>\n",
       "      <td>10.0</td>\n",
       "      <td>10.0</td>\n",
       "      <td>10.0</td>\n",
       "      <td>10.0</td>\n",
       "      <td>9.31</td>\n",
       "      <td>6.0</td>\n",
       "      <td>8.35</td>\n",
       "      <td>4.0</td>\n",
       "      <td>8.83</td>\n",
       "      <td>3.0</td>\n",
       "    </tr>\n",
       "    <tr>\n",
       "      <th>1618</th>\n",
       "      <td>2008</td>\n",
       "      <td>NZL</td>\n",
       "      <td>New Zealand</td>\n",
       "      <td>Oceania</td>\n",
       "      <td>NaN</td>\n",
       "      <td>10.0</td>\n",
       "      <td>10.0</td>\n",
       "      <td>10.0</td>\n",
       "      <td>10.0</td>\n",
       "      <td>10.0</td>\n",
       "      <td>9.42</td>\n",
       "      <td>4.0</td>\n",
       "      <td>8.46</td>\n",
       "      <td>3.0</td>\n",
       "      <td>8.94</td>\n",
       "      <td>2.0</td>\n",
       "    </tr>\n",
       "    <tr>\n",
       "      <th>1619</th>\n",
       "      <td>2008</td>\n",
       "      <td>HKG</td>\n",
       "      <td>Hong Kong</td>\n",
       "      <td>East Asia</td>\n",
       "      <td>NaN</td>\n",
       "      <td>10.0</td>\n",
       "      <td>10.0</td>\n",
       "      <td>10.0</td>\n",
       "      <td>10.0</td>\n",
       "      <td>10.0</td>\n",
       "      <td>9.13</td>\n",
       "      <td>12.0</td>\n",
       "      <td>9.11</td>\n",
       "      <td>1.0</td>\n",
       "      <td>9.12</td>\n",
       "      <td>1.0</td>\n",
       "    </tr>\n",
       "  </tbody>\n",
       "</table>\n",
       "<p>1620 rows × 16 columns</p>\n",
       "</div>"
      ],
      "text/plain": [
       "      year ISO_code    countries                         region  \\\n",
       "0     2017      ALB      Albania                 Eastern Europe   \n",
       "1     2017      DZA      Algeria     Middle East & North Africa   \n",
       "2     2017      AGO       Angola             Sub-Saharan Africa   \n",
       "3     2017      ARG    Argentina  Latin America & the Caribbean   \n",
       "4     2017      ARM      Armenia        Caucasus & Central Asia   \n",
       "...    ...      ...          ...                            ...   \n",
       "1615  2008      AUS    Australia                        Oceania   \n",
       "1616  2008      DNK      Denmark                 Western Europe   \n",
       "1617  2008      CHE  Switzerland                 Western Europe   \n",
       "1618  2008      NZL  New Zealand                        Oceania   \n",
       "1619  2008      HKG    Hong Kong                      East Asia   \n",
       "\n",
       "      pf_identity_legal  pf_identity_sex_male  pf_identity_sex_female  \\\n",
       "0                   0.0                  10.0                    10.0   \n",
       "1                   NaN                   0.0                     0.0   \n",
       "2                  10.0                   0.0                     0.0   \n",
       "3                  10.0                  10.0                    10.0   \n",
       "4                   7.0                  10.0                    10.0   \n",
       "...                 ...                   ...                     ...   \n",
       "1615                NaN                  10.0                    10.0   \n",
       "1616                NaN                  10.0                    10.0   \n",
       "1617                NaN                  10.0                    10.0   \n",
       "1618                NaN                  10.0                    10.0   \n",
       "1619                NaN                  10.0                    10.0   \n",
       "\n",
       "      pf_identity_sex  pf_identity_divorce  pf_identity  pf_score  pf_rank  \\\n",
       "0                10.0                  7.5          5.8      8.01     46.0   \n",
       "1                 0.0                  0.0          0.0      5.20    146.0   \n",
       "2                 0.0                  5.0          5.0      5.98    121.0   \n",
       "3                10.0                 10.0         10.0      8.04     41.0   \n",
       "4                10.0                  7.5          8.2      7.15     72.0   \n",
       "...               ...                  ...          ...       ...      ...   \n",
       "1615             10.0                 10.0         10.0      9.29      7.0   \n",
       "1616             10.0                 10.0         10.0      9.49      3.0   \n",
       "1617             10.0                 10.0         10.0      9.31      6.0   \n",
       "1618             10.0                 10.0         10.0      9.42      4.0   \n",
       "1619             10.0                 10.0         10.0      9.13     12.0   \n",
       "\n",
       "      ef_score  ef_rank  hf_score  hf_rank  \n",
       "0         7.67     30.0      7.84     38.0  \n",
       "1         4.77    159.0      4.99    155.0  \n",
       "2         4.83    158.0      5.40    151.0  \n",
       "3         5.67    147.0      6.86     77.0  \n",
       "4         7.70     27.0      7.42     54.0  \n",
       "...        ...      ...       ...      ...  \n",
       "1615      8.18      6.0      8.73      4.0  \n",
       "1616      7.98      9.0      8.73      4.0  \n",
       "1617      8.35      4.0      8.83      3.0  \n",
       "1618      8.46      3.0      8.94      2.0  \n",
       "1619      9.11      1.0      9.12      1.0  \n",
       "\n",
       "[1620 rows x 16 columns]"
      ]
     },
     "execution_count": 7,
     "metadata": {},
     "output_type": "execute_result"
    }
   ],
   "source": [
    "dataset = dataset[important_cols].replace('-', numpy.nan)\n",
    "for score_col in score_cols:\n",
    "  dataset[score_col] = pandas.to_numeric(dataset[score_col])\n",
    "dataset"
   ]
  },
  {
   "cell_type": "markdown",
   "metadata": {},
   "source": [
    "## <font color=dodgerblue>3.</font>"
   ]
  },
  {
   "cell_type": "markdown",
   "metadata": {},
   "source": [
    "### <font color=dodgerblue>3.2</font>"
   ]
  },
  {
   "cell_type": "markdown",
   "metadata": {
    "colab_type": "text",
    "id": "OF4LTznCS6SD"
   },
   "source": [
    "## Distribuciones\n",
    "\n",
    "Realizar una prueba de Kolmogorov-Smirnof para comprobar analíticamente si estas variables responden la distribución propuesta en el ejercicio anterior. Hint: podés usar https://docs.scipy.org/doc/scipy-0.14.0/reference/generated/scipy.stats.kstest.html, pero hay que tener en cuenta que si la distribución es \"norm\", entonces va a comparar los datos con una distribución normal con media 0 y desviación estándar 1. Se puede utilizar la distribución sobre todos los datos o sólo sobre Latinoamérica."
   ]
  },
  {
   "cell_type": "code",
   "execution_count": 17,
   "metadata": {},
   "outputs": [],
   "source": [
    "from scipy import stats\n",
    "from datasets import dataset\n",
    "from utils import display_markdown, summarize_iterable\n",
    "\n",
    "def standard_score_dataset(data):\n",
    "    \"\"\"\n",
    "    \"\"\"\n",
    "    mean = data.mean()\n",
    "    std = data.std()\n",
    "    z_score = (data - mean)/ std\n",
    "    return z_score"
   ]
  },
  {
   "cell_type": "code",
   "execution_count": 18,
   "metadata": {},
   "outputs": [],
   "source": [
    "pfi_global = dataset.pf_identity.dropna()\n",
    "hfs_global = dataset.hf_score.dropna()\n",
    "\n",
    "hfs_global_scale = standard_score_dataset(hfs_global)\n",
    "pfi_global_scale = standard_score_dataset(pfi_global)\n",
    "normal_standard = numpy.random.normal(size=hfs_global_scale.size)"
   ]
  },
  {
   "cell_type": "code",
   "execution_count": 19,
   "metadata": {},
   "outputs": [
    {
     "data": {
      "image/png": "[encoded data removed]",
      "text/plain": [
       "<Figure size 1440x1080 with 4 Axes>"
      ]
     },
     "metadata": {
      "needs_background": "light"
     },
     "output_type": "display_data"
    }
   ],
   "source": [
    "\n",
    "figure, axes = plt.subplots(2,2, figsize=(20,15))\n",
    "\n",
    "axes[0,0].set_title('HF Score Global')\n",
    "seaborn.distplot(hfs_global, label = 'hfs_global', ax=axes[0,0])\n",
    "\n",
    "axes[0,1].set_title('HF Score Global Standart Score')\n",
    "seaborn.distplot(hfs_global_scale, label = 'hfs_global_scale', ax=axes[0,1])\n",
    "seaborn.distplot(normal_standard, label = 'Standard Normal', color='orange',  kde_kws={\"shade\": True}, hist=False, ax=axes[0,1])\n",
    "\n",
    "axes[1,0].set_title('Pf Identity Global')\n",
    "seaborn.distplot(pfi_global, label = 'hfs_global', ax=axes[1,0])\n",
    "axes[1,1].set_title('Pf Identity Global Standard Score')\n",
    "seaborn.distplot(pfi_global_scale, label = 'hfs_global_scale', ax=axes[1,1])\n",
    "seaborn.distplot(normal_standard, label = 'Standard Normal', color='orange', kde_kws={\"shade\": True}, hist=False, ax=axes[1,1])\n",
    "plt.legend()\n",
    "plt.show()"
   ]
  },
  {
   "cell_type": "code",
   "execution_count": 20,
   "metadata": {},
   "outputs": [
    {
     "data": {
      "text/markdown": [
       "## Respuesta"
      ],
      "text/plain": [
       "<IPython.core.display.Markdown object>"
      ]
     },
     "metadata": {},
     "output_type": "display_data"
    },
    {
     "name": "stdout",
     "output_type": "stream",
     "text": [
      "El Estadistico KS para \"pf_identity\"\" es:  0.22117579326428533\n",
      "El p-valor para \"pf_identity\"\" es:  1.2026957468454308e-66\n",
      "\n",
      "El Estadistico KS para \"hf_score\"\" es:  0.06489869947594595\n",
      "El p-valor para \"hf_score\"\" es:  4.404265240435491e-06\n",
      "\n",
      "\"pf_Identity\"\" tiene distribucion NO NORMAL\n",
      "\"hf_score\"\" tiene distribucion NO NORMAL\n"
     ]
    }
   ],
   "source": [
    "\n",
    "display_markdown('## Respuesta')\n",
    "R_Identity = stats.kstest(pfi_global_scale, 'norm')\n",
    "print ('El Estadistico KS para \\\"pf_identity\\\"\" es: ', R_Identity[0])\n",
    "print ('El p-valor para \\\"pf_identity\\\"\" es: ', R_Identity[1])\n",
    "print()\n",
    "\n",
    "\n",
    "\n",
    "R_HF = stats.kstest(hfs_global_scale, 'norm')\n",
    "print ('El Estadistico KS para \\\"hf_score\\\"\" es: ', R_HF[0])\n",
    "print ('El p-valor para \\\"hf_score\\\"\" es: ', R_HF[1])\n",
    "print()\n",
    "\n",
    "if (R_Identity[1]<0.05):\n",
    "    print('\\\"pf_Identity\\\"\" tiene distribucion NO NORMAL') \n",
    "else:\n",
    "    print('\\\" pf_Identity\\\"\" tiene distribucion NORMAL')\n",
    "\n",
    "if (R_HF[1] < 0.05): \n",
    "    print('\\\"hf_score\\\"\" tiene distribucion NO NORMAL')\n",
    "else: \n",
    "    print('\\\" hf_score\\\"\" tiene distribucion NORMAL')\n",
    "\n",
    "\n",
    "    "
   ]
  },
  {
   "cell_type": "code",
   "execution_count": null,
   "metadata": {},
   "outputs": [],
   "source": []
  },
  {
   "cell_type": "markdown",
   "metadata": {},
   "source": [
    "## <font color=dodgerblue>4.</font>"
   ]
  },
  {
   "cell_type": "markdown",
   "metadata": {},
   "source": [
    "### <font color=dodgerblue>4.3</font>"
   ]
  },
  {
   "cell_type": "markdown",
   "metadata": {},
   "source": [
    "### OBS\n",
    "Ambas variables son ordinal discretas y presentan distribucion NO NORMAL\n",
    "por lo tanto no podemos aplicar Pearson pero si podriamos aplicar Spearman y Kendall.\n",
    "La existencia de correlacion NO IMPLICA causalidad"
   ]
  },
  {
   "cell_type": "code",
   "execution_count": 12,
   "metadata": {},
   "outputs": [
    {
     "name": "stdout",
     "output_type": "stream",
     "text": [
      "Spearman roS = 0.6493338224069182 , p-value = 4.258111613666192e-185\n",
      "\n",
      "Kendall tauK = 0.48642163603701766 , p-value = 3.510054300364989e-155\n"
     ]
    }
   ],
   "source": [
    "from scipy import stats\n",
    "\n",
    "#creo el DataFrame a partir de los array de las Variables\n",
    "\n",
    "C = [PF_Identity,HF_Score]\n",
    "df_I_HF = pandas.DataFrame(C)\n",
    "df_I_HF.index = ['PF_Identity','HF_Score']\n",
    "\n",
    "\n",
    "roS, p_valueS = stats.spearmanr(PF_Identity,HF_Score)\n",
    "\n",
    "tauK, p_valueK = stats.kendalltau(PF_Identity,HF_Score)\n",
    "\n",
    "print('Spearman roS =' , roS,', p-value =', p_valueS)\n",
    "print()\n",
    "print('Kendall tauK =', tauK, ', p-value =', p_valueK)"
   ]
  },
  {
   "cell_type": "markdown",
   "metadata": {},
   "source": [
    "Los dos test arrojan valores semejantes.\n",
    "* Los valores positivos cercanos a 0.5 para ambos estadisticos indican que habria una moderada asociacion positiva de ambas variables.\n",
    "* Los p-valores de ambos test son practicamente cero por lo tanto menor al valor de significancia (alfa del 5%) por lo que se rechaza\n",
    "  la Hipotesis Nula (No existe asociacion entre las variables). Por lo tanto existe asociacion entre ellas.\n",
    "\n",
    "## CONCLUSION: Exite relacion moderada positiva entre las variables pf_Identity y hf_Score"
   ]
  },
  {
   "cell_type": "markdown",
   "metadata": {
    "colab_type": "text",
    "id": "WqoHOee9UC7n"
   },
   "source": [
    "Además de completar estos puntos faltantes, luego de haber visitado los conceptos de percepción visual y comunicación efectiva, están en condiciones de reveer los gráficos realizados y evaluar si pueden ser mejorados. Para ello, puede hacerse las siguientes preguntas:\n",
    "\n",
    "* ¿Están utilizando el tipo de gráfico adecuado para cada tipo de variable?\n",
    "* Los gráficos, ¿son legibles?\n",
    "* Los gráficos generados, ¿responden a las preguntas mostrando un patrón claro? En caso de que no, ¿podemos filtrar los datos para que el patrón sea más evidente? ¿o agruparlos de manera distinta? ¿o cambiar el tipo de gráfico?"
   ]
  }
 ],
 "metadata": {
  "kernelspec": {
   "display_name": "Python 3",
   "language": "python",
   "name": "python3"
  },
  "language_info": {
   "codemirror_mode": {
    "name": "ipython",
    "version": 3
   },
   "file_extension": ".py",
   "mimetype": "text/x-python",
   "name": "python",
   "nbconvert_exporter": "python",
   "pygments_lexer": "ipython3",
   "version": "3.6.10"
  }
 },
 "nbformat": 4,
 "nbformat_minor": 4
}
