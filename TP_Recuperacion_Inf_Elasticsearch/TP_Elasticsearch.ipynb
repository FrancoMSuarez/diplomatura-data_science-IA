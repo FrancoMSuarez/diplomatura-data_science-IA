{
 "cells": [
  {
   "cell_type": "markdown",
   "metadata": {},
   "source": [
    "# TP Elasticsearch\n"
   ]
  },
  {
   "cell_type": "markdown",
   "metadata": {},
   "source": [
    "### **Alumno: Ivan Fabio Gutierrez Pinedo DNI 33437838**"
   ]
  },
  {
   "cell_type": "markdown",
   "metadata": {},
   "source": [
    "Utilizando el archivo G20 provisto durante la clase (https://bit.ly/g20_Diplo2020), indexar los tweets del archivo, asegurándose de definir el mapping de forma correcta para los campos de interés. Notar que el mapping correcto no sólo depende del tipo de datos, sino de las consultas que deben hacerse sobre los mismos. De ser necesario o conveniente, se podría elegir indexar un campo de más de una forma.\n",
    "Los campos de interés son:\n",
    "*  “text”, “created_at”, “id”, “user.location”, “user.followers_count”, “place.bounding_box”,  “source”, “entities.hashtags”, “timestamp_ms”, “retweeted”\n",
    "Las consultas de interés son:\n",
    "1. Poder buscar teniendo en cuenta el patrón de mayúsculas o minúsculas, por ejemplo: “President” o “PRESIDENT” en el campo ‘text’, solo debe devolver documentos que tengan la palabra escrita con el mismo patrón de mayúsculas y minúsculas.\n",
    "2. Poder buscar por palabras que compartan una misma raíz, por ejemplo: “pray”, haría un match con tweets que contengan: “prays”, “prayer”, “praying”, “prayers” en el campo ‘text’.\n",
    "3. Consulta para poder buscar una ubicación en el campo ‘user.location’ y que el matching sea exacto, por ejemplo para las consultas “York” y “California”, no debería devolver documentos en donde user.location sea “New York” o “LA, California” por ejemplo.\n",
    "4. Consulta para poder buscar tweets cuyos usuarios hayan abierto sus cuentas en un rango de fechas.\n",
    "5. Consulta para poder buscar tweets que hayan sido posteados en un área específica,por ejemplo, en el área de “Washington DC” usando el campo “place.bounding_box”."
   ]
  },
  {
   "cell_type": "markdown",
   "metadata": {},
   "source": [
    "Investigacion para realizar el TP \n",
    "* https://www.youtube.com/watch?v=ma3BC8aPBfE&ab_channel=AmineM.Boulouma"
   ]
  },
  {
   "cell_type": "code",
   "execution_count": 1,
   "metadata": {},
   "outputs": [],
   "source": [
    "from elasticsearch import Elasticsearch, helpers\n",
    "import os, uuid\n",
    "import json\n",
    "from datetime import datetime\n",
    "import dateutil.parser"
   ]
  },
  {
   "cell_type": "code",
   "execution_count": 2,
   "metadata": {},
   "outputs": [],
   "source": [
    "# Configuration\n",
    "\n",
    "mapping = {\n",
    "  \"properties\": {\n",
    "    \"text\": {\n",
    "      \"type\": \"text\",\n",
    "      \"analyzer\": \"my_analyzer\",\n",
    "      \"fields\": {\n",
    "        \"case_sensitive\": {\n",
    "          \"type\": \"text\",\n",
    "          \"analyzer\": \"case_sensitive\"\n",
    "        }        \n",
    "      }      \n",
    "    },\n",
    "    \"created_at\": {\n",
    "      \"type\": \"date\",\n",
    "      \"format\": \"E MMM dd HH:mm:ss Z yyyy\"\n",
    "    },\n",
    "    \"user\": {\n",
    "      \"properties\": {\n",
    "        \"location\": { \"type\": \"keyword\" }\n",
    "      }\n",
    "    },\n",
    "    \"place\": {\n",
    "      \"properties\": {\n",
    "        \"bounding_box\": {\n",
    "          \"type\": \"geo_shape\",\n",
    "          \"coerce\": \"true\",\n",
    "          }\n",
    "      }\n",
    "    }  \n",
    "  }\n",
    "}\n",
    "\n",
    "setting = {\n",
    "  \"settings\": {\n",
    "    \"analysis\": {\n",
    "      \"analyzer\": {\n",
    "        \"my_analyzer\": {\n",
    "          \"tokenizer\": \"standard\",\n",
    "          \"filter\": [\n",
    "            \"lowercase\",\n",
    "            \"my_stemmer\"\n",
    "          ]\n",
    "        },\n",
    "        \"stem_analysis\": {\n",
    "          \"tokenizer\": \"whitespace\",\n",
    "          \"filter\": [ \"stemmer\" ]\n",
    "        },\n",
    "      \"case_sensitive\" : {\n",
    "             \"type\" : \"custom\",\n",
    "             \"tokenizer\":    \"standard\",\n",
    "             \"filter\": [\"stop\", \"porter_stem\" ]                    \n",
    "         }\n",
    "      },\n",
    "      \"filter\": {\n",
    "        \"my_stemmer\": {\n",
    "          \"type\": \"stemmer\",\n",
    "          \"language\": \"english\"#\"light_english\"#\"english\"\n",
    "        }\n",
    "      }\n",
    "    },\n",
    "    \"index.mapping.total_fields.limit\": 2000,\n",
    "  }\n",
    "}"
   ]
  },
  {
   "cell_type": "code",
   "execution_count": 3,
   "metadata": {},
   "outputs": [
    {
     "data": {
      "text/plain": [
       "{'properties': {'text': {'type': 'text',\n",
       "   'analyzer': 'my_analyzer',\n",
       "   'fields': {'case_sensitive': {'type': 'text',\n",
       "     'analyzer': 'case_sensitive'}}},\n",
       "  'created_at': {'type': 'date', 'format': 'E MMM dd HH:mm:ss Z yyyy'},\n",
       "  'user': {'properties': {'location': {'type': 'keyword'}}},\n",
       "  'place': {'properties': {'bounding_box': {'type': 'geo_shape',\n",
       "     'coerce': 'true'}}}}}"
      ]
     },
     "execution_count": 3,
     "metadata": {},
     "output_type": "execute_result"
    }
   ],
   "source": [
    "mapping"
   ]
  },
  {
   "cell_type": "markdown",
   "metadata": {},
   "source": []
  },
  {
   "cell_type": "code",
   "execution_count": 4,
   "metadata": {},
   "outputs": [
    {
     "data": {
      "text/plain": [
       "{'acknowledged': True, 'shards_acknowledged': True, 'index': 'g20_index'}"
      ]
     },
     "execution_count": 4,
     "metadata": {},
     "output_type": "execute_result"
    }
   ],
   "source": [
    "index_name = 'g20_index'\n",
    "es = Elasticsearch(HOST=\"http://localhost\", PORT=9200)\n",
    "exist_index = es.indices.exists(index_name)\n",
    "if exist_index :\n",
    "    es.indices.delete(index_name)\n",
    "es.indices.create(index_name, body=setting)\n",
    "\n"
   ]
  },
  {
   "cell_type": "code",
   "execution_count": 5,
   "metadata": {},
   "outputs": [
    {
     "data": {
      "text/plain": [
       "{'acknowledged': True}"
      ]
     },
     "execution_count": 5,
     "metadata": {},
     "output_type": "execute_result"
    }
   ],
   "source": [
    "es.indices.put_mapping(body=mapping, index=index_name)"
   ]
  },
  {
   "cell_type": "code",
   "execution_count": 6,
   "metadata": {},
   "outputs": [],
   "source": [
    "def get_data_from_file(file_name):\n",
    "    if \"/\" in file_name or chr(92) in file_name:\n",
    "        file = open(file_name, encoding=\"utf8\", errors='ignore')\n",
    "    else:\n",
    "        # use the script_path() function to get path if none is passed\n",
    "        file = open('./' + str(file_name), encoding=\"utf8\", errors='ignore')\n",
    "    data = [line.strip() for line in file]\n",
    "    file.close()\n",
    "    return data\n",
    "\n",
    "def bulk_g20_ndjson_data(json_file, _index):\n",
    "    json_list = get_data_from_file(json_file)\n",
    "    index = None\n",
    "    dict_index = None\n",
    "    for doc in json_list:\n",
    "        if '{\"index\"' in doc:\n",
    "            dict_index = json.loads(doc)\n",
    "        if '{\"index\"' not in doc and index != None:        \n",
    "            yield {\n",
    "                \"_index\": _index,\n",
    "                #\"_type\": doc_type,\n",
    "                \"_id\": dict_index.get('index').get('_id'),\n",
    "                \"_source\": doc\n",
    "            }\n",
    "            dict_index = None\n",
    "            \n",
    "def bulk_g20_from_dict_data(g20_dict, _index):      \n",
    "    for key, doc in g20_dict.items():\n",
    "          \n",
    "        yield {\n",
    "            \"_index\": _index,\n",
    "            #\"_type\": doc_type,\n",
    "            \"_id\": key,\n",
    "            \"_source\": doc\n",
    "        }\n",
    "        \n",
    "def convert_g20_to_dict(file_name):    \n",
    "    data = get_data_from_file('g20.json')\n",
    "    index_list = []\n",
    "    doc_list = []\n",
    "    for row in data:\n",
    "        if '{\"index\"' in row:\n",
    "            dict_index = json.loads(row)\n",
    "            index_list.append(dict_index)\n",
    "        else :\n",
    "            doc_list.append(row)\n",
    "\n",
    "\n",
    "    g20_dict = { index_list[i].get('index').get('_id') : doc_list[i] for i in range(0, len(index_list)) } \n",
    "    return g20_dict\n"
   ]
  },
  {
   "cell_type": "code",
   "execution_count": 7,
   "metadata": {},
   "outputs": [
    {
     "data": {
      "text/plain": [
       "(9567, [])"
      ]
     },
     "execution_count": 7,
     "metadata": {},
     "output_type": "execute_result"
    }
   ],
   "source": [
    "data = convert_g20_to_dict('g20.json')\n",
    "helpers.bulk(es, bulk_g20_from_dict_data(data, index_name))"
   ]
  },
  {
   "cell_type": "markdown",
   "metadata": {},
   "source": [
    "---\n",
    "1. Poder buscar teniendo en cuenta el patrón de mayúsculas o minúsculas, por ejemplo: “President” o “PRESIDENT” en el campo ‘text’, solo debe devolver documentos que tengan la palabra escrita con el mismo patrón de mayúsculas y minúsculas.\n"
   ]
  },
  {
   "cell_type": "code",
   "execution_count": 8,
   "metadata": {},
   "outputs": [
    {
     "data": {
      "text/plain": [
       "{'took': 2,\n",
       " 'timed_out': False,\n",
       " '_shards': {'total': 1, 'successful': 1, 'skipped': 0, 'failed': 0},\n",
       " 'hits': {'total': {'value': 3, 'relation': 'eq'},\n",
       "  'max_score': 9.121584,\n",
       "  'hits': [{'_index': 'g20_index',\n",
       "    '_type': '_doc',\n",
       "    '_id': '1059864699968372737',\n",
       "    '_score': 9.121584,\n",
       "    '_source': {'text': '@realDonaldTrump Great Job Mr. PRESIDENT! Finally.. https://t.co/QePjSzlIi8'}},\n",
       "   {'_index': 'g20_index',\n",
       "    '_type': '_doc',\n",
       "    '_id': '1059868987855724544',\n",
       "    '_score': 8.288621,\n",
       "    '_source': {'text': '@WhiteHouse @realDonaldTrump #HELLO..MY PRESIDENT PRAY FOR..EVER..CONQUER..SMILE..SECOND..45.'}},\n",
       "   {'_index': 'g20_index',\n",
       "    '_type': '_doc',\n",
       "    '_id': '1059864875084775424',\n",
       "    '_score': 7.193758,\n",
       "    '_source': {'text': '@realDonaldTrump @MorriseyWV @CarolMillerWV TRAITOR TRUMP SIDED WITH RUSSIAN PRESIDENT PUTIN INSTEAD OF BELIEVING A… https://t.co/2Sn7oDOluZ'}}]}}"
      ]
     },
     "execution_count": 8,
     "metadata": {},
     "output_type": "execute_result"
    }
   ],
   "source": [
    "word = \"PRESIDENT\"\n",
    "search_body = {\n",
    "  \"query\": {\n",
    "    \"match\": { \"text.case_sensitive\": word } \n",
    "  } \n",
    "  , \"_source\": [\"text\"]\n",
    "\n",
    "}\n",
    "es.search(body=search_body, index=index_name)"
   ]
  },
  {
   "cell_type": "code",
   "execution_count": 9,
   "metadata": {},
   "outputs": [
    {
     "data": {
      "text/plain": [
       "{'took': 3,\n",
       " 'timed_out': False,\n",
       " '_shards': {'total': 1, 'successful': 1, 'skipped': 0, 'failed': 0},\n",
       " 'hits': {'total': {'value': 509, 'relation': 'eq'},\n",
       "  'max_score': 3.8845444,\n",
       "  'hits': [{'_index': 'g20_index',\n",
       "    '_type': '_doc',\n",
       "    '_id': '1059868781495894021',\n",
       "    '_score': 3.8845444,\n",
       "    '_source': {'text': '@realDonaldTrump Come on, Mr President!!!!'}},\n",
       "   {'_index': 'g20_index',\n",
       "    '_type': '_doc',\n",
       "    '_id': '1059868897493557248',\n",
       "    '_score': 3.8845444,\n",
       "    '_source': {'text': '@realDonaldTrump Weak Baby President.'}},\n",
       "   {'_index': 'g20_index',\n",
       "    '_type': '_doc',\n",
       "    '_id': '1059868532975026178',\n",
       "    '_score': 3.7342854,\n",
       "    '_source': {'text': '@realDonaldTrump Thank you President Klump!'}},\n",
       "   {'_index': 'g20_index',\n",
       "    '_type': '_doc',\n",
       "    '_id': '1059868985058041856',\n",
       "    '_score': 3.7342854,\n",
       "    '_source': {'text': '@realDonaldTrump already done mr. President'}},\n",
       "   {'_index': 'g20_index',\n",
       "    '_type': '_doc',\n",
       "    '_id': '1059866586889273352',\n",
       "    '_score': 3.5952177,\n",
       "    '_source': {'text': '@realDonaldTrump good luck today Mr President!'}},\n",
       "   {'_index': 'g20_index',\n",
       "    '_type': '_doc',\n",
       "    '_id': '1059862956018753538',\n",
       "    '_score': 3.4661362,\n",
       "    '_source': {'text': '@realDonaldTrump @HawleyMO President Trump is the CHAMPION for the United States!!'}},\n",
       "   {'_index': 'g20_index',\n",
       "    '_type': '_doc',\n",
       "    '_id': '1059862927333675008',\n",
       "    '_score': 3.3460028,\n",
       "    '_source': {'text': '@realDonaldTrump Thank you for all your work mr. President'}},\n",
       "   {'_index': 'g20_index',\n",
       "    '_type': '_doc',\n",
       "    '_id': '1059867701672337409',\n",
       "    '_score': 3.3460028,\n",
       "    '_source': {'text': '@realDonaldTrump Why are you this petty? President of a great nation as US?'}},\n",
       "   {'_index': 'g20_index',\n",
       "    '_type': '_doc',\n",
       "    '_id': '1059867637587632128',\n",
       "    '_score': 3.2339177,\n",
       "    '_source': {'text': '@realDonaldTrump Dear Mr. President, \\nNo matter what, thank you.'}},\n",
       "   {'_index': 'g20_index',\n",
       "    '_type': '_doc',\n",
       "    '_id': '1059869036308258816',\n",
       "    '_score': 3.2339177,\n",
       "    '_source': {'text': '@realDonaldTrump President Trump - look at this election tampering\\nhttps://t.co/WWzE4rWXdu'}}]}}"
      ]
     },
     "execution_count": 9,
     "metadata": {},
     "output_type": "execute_result"
    }
   ],
   "source": [
    "word = \"President\"\n",
    "search_body = {\n",
    "  \"query\": {\n",
    "    \"match\": { \"text.case_sensitive\": word } \n",
    "  } \n",
    "  , \"_source\": [\"text\"]\n",
    "\n",
    "}\n",
    "es.search(body=search_body, index=index_name)"
   ]
  },
  {
   "cell_type": "markdown",
   "metadata": {},
   "source": [
    "---\n",
    "2. Poder buscar por palabras que compartan una misma raíz, por ejemplo: “pray”, haría un match con tweets que contengan: “prays”, “prayer”, “praying”, “prayers” en el campo ‘text’.\n"
   ]
  },
  {
   "cell_type": "code",
   "execution_count": 10,
   "metadata": {},
   "outputs": [
    {
     "data": {
      "text/plain": [
       "{'tokens': [{'token': 'prai',\n",
       "   'start_offset': 0,\n",
       "   'end_offset': 4,\n",
       "   'type': '<ALPHANUM>',\n",
       "   'position': 0},\n",
       "  {'token': 'prai',\n",
       "   'start_offset': 5,\n",
       "   'end_offset': 11,\n",
       "   'type': '<ALPHANUM>',\n",
       "   'position': 1},\n",
       "  {'token': 'prai',\n",
       "   'start_offset': 12,\n",
       "   'end_offset': 19,\n",
       "   'type': '<ALPHANUM>',\n",
       "   'position': 2},\n",
       "  {'token': 'prayer',\n",
       "   'start_offset': 20,\n",
       "   'end_offset': 26,\n",
       "   'type': '<ALPHANUM>',\n",
       "   'position': 3},\n",
       "  {'token': 'prayer',\n",
       "   'start_offset': 27,\n",
       "   'end_offset': 34,\n",
       "   'type': '<ALPHANUM>',\n",
       "   'position': 4}]}"
      ]
     },
     "execution_count": 10,
     "metadata": {},
     "output_type": "execute_result"
    }
   ],
   "source": [
    "#Testing custom analyzer\n",
    "analisis = {\n",
    "  \"analyzer\" : \"my_analyzer\",\n",
    "  \"text\" : \"pray prayed praying prayer prayers\"\n",
    "}\n",
    "es.indices.analyze(body=analisis, index=index_name)"
   ]
  },
  {
   "cell_type": "code",
   "execution_count": 11,
   "metadata": {},
   "outputs": [
    {
     "data": {
      "text/plain": [
       "{'took': 21,\n",
       " 'timed_out': False,\n",
       " '_shards': {'total': 1, 'successful': 1, 'skipped': 0, 'failed': 0},\n",
       " 'hits': {'total': {'value': 10, 'relation': 'eq'},\n",
       "  'max_score': 7.6182895,\n",
       "  'hits': [{'_index': 'g20_index',\n",
       "    '_type': '_doc',\n",
       "    '_id': '1059868987855724544',\n",
       "    '_score': 7.6182895,\n",
       "    '_source': {'text': '@WhiteHouse @realDonaldTrump #HELLO..MY PRESIDENT PRAY FOR..EVER..CONQUER..SMILE..SECOND..45.'}},\n",
       "   {'_index': 'g20_index',\n",
       "    '_type': '_doc',\n",
       "    '_id': '1059864553037684736',\n",
       "    '_score': 7.4205594,\n",
       "    '_source': {'text': '@WhiteHouse @realDonaldTrump The American People are praying for you Mr President 🙏🇺🇸'}},\n",
       "   {'_index': 'g20_index',\n",
       "    '_type': '_doc',\n",
       "    '_id': '1059862775965446144',\n",
       "    '_score': 7.4101014,\n",
       "    '_source': {'text': '@POTUS   🙏🏻🙏🏻Pray For President Trump🙏🏻🙏🏻🙏🏻\\n🙏🏻🙏🏻🙏🏻🙏🏻Pray For America🙏🏻🙏🏻🙏🏻🙏🏻🙏🏻\\nIn the Mighty Name of Jesus Release… https://t.co/HY2yIhB7LR'}},\n",
       "   {'_index': 'g20_index',\n",
       "    '_type': '_doc',\n",
       "    '_id': '1059867694256795655',\n",
       "    '_score': 6.1446924,\n",
       "    '_source': {'text': '@realDonaldTrump \\nPOTUS:\\nLOVED THE RALLIES WITH YOUR MESSAGES TO AMERICA ‼️\\nPRAYING THAT GOD WILL GRACE AMERICA, AG… https://t.co/99933PwCFc'}},\n",
       "   {'_index': 'g20_index',\n",
       "    '_type': '_doc',\n",
       "    '_id': '1059863809865801728',\n",
       "    '_score': 5.891453,\n",
       "    '_source': {'text': '@realDonaldTrump @JohnFasoNy The demonic powers may be too heavy over New York City, but many of us are praying aga… https://t.co/4cNjWCEMgl'}},\n",
       "   {'_index': 'g20_index',\n",
       "    '_type': '_doc',\n",
       "    '_id': '1059867779212423168',\n",
       "    '_score': 5.891453,\n",
       "    '_source': {'text': '@realDonaldTrump @MikeDeWine we now know that donald trump does not trust god notice he is not praying for the oppi… https://t.co/yhefmOZDf6'}},\n",
       "   {'_index': 'g20_index',\n",
       "    '_type': '_doc',\n",
       "    '_id': '1059863022506795008',\n",
       "    '_score': 5.6582613,\n",
       "    '_source': {'text': 'RT @RT_Erdogan: I pray for our brothers and sisters, who were killed in an earthquake and tsunami in Indonesia, wish a speedy recovery to t…'}},\n",
       "   {'_index': 'g20_index',\n",
       "    '_type': '_doc',\n",
       "    '_id': '1059866838996267008',\n",
       "    '_score': 5.6582613,\n",
       "    '_source': {'text': '@realDonaldTrump I voted early and All RED I pray to God that the Republicans hold the power to keep your train run… https://t.co/4IApoEESTQ'}},\n",
       "   {'_index': 'g20_index',\n",
       "    '_type': '_doc',\n",
       "    '_id': '1059863944666533889',\n",
       "    '_score': 5.5484533,\n",
       "    '_source': {'text': '@realDonaldTrump If u VOTED today and had to show PROOF of who u are as a Registered legal Voter. Pray tell me how… https://t.co/5ckEAueH2m'}},\n",
       "   {'_index': 'g20_index',\n",
       "    '_type': '_doc',\n",
       "    '_id': '1059867006944583680',\n",
       "    '_score': 5.2431946,\n",
       "    '_source': {'text': '@realDonaldTrump I can barely get out of bed in the mornings so I was and hope to pray to God did you will end up l… https://t.co/MwLFoApkpW'}}]}}"
      ]
     },
     "execution_count": 11,
     "metadata": {},
     "output_type": "execute_result"
    }
   ],
   "source": [
    "word = \"praying\"\n",
    "search_body = {\n",
    "  \"query\": {\n",
    "    \"match\": { \"text\": word } \n",
    "  } \n",
    "  , \"_source\": [\"text\"]\n",
    "\n",
    "}\n",
    "es.search(body=search_body, index=index_name)"
   ]
  },
  {
   "cell_type": "markdown",
   "metadata": {},
   "source": [
    "---\n",
    "3. Consulta para poder buscar una ubicación en el campo ‘user.location’ y que el matching sea exacto, por ejemplo para las consultas “York” y “California”, no debería devolver documentos en donde user.location sea “New York” o “LA, California” por ejemplo.\n"
   ]
  },
  {
   "cell_type": "code",
   "execution_count": 12,
   "metadata": {},
   "outputs": [
    {
     "data": {
      "text/plain": [
       "{'took': 4,\n",
       " 'timed_out': False,\n",
       " '_shards': {'total': 1, 'successful': 1, 'skipped': 0, 'failed': 0},\n",
       " 'hits': {'total': {'value': 4, 'relation': 'eq'},\n",
       "  'max_score': 6.9822435,\n",
       "  'hits': [{'_index': 'g20_index',\n",
       "    '_type': '_doc',\n",
       "    '_id': '1059863755603947520',\n",
       "    '_score': 6.9822435,\n",
       "    '_source': {'id': 1059863755603947520,\n",
       "     'user': {'location': 'California'}}},\n",
       "   {'_index': 'g20_index',\n",
       "    '_type': '_doc',\n",
       "    '_id': '1059867162557394944',\n",
       "    '_score': 6.9822435,\n",
       "    '_source': {'id': 1059867162557394944,\n",
       "     'user': {'location': 'California'}}},\n",
       "   {'_index': 'g20_index',\n",
       "    '_type': '_doc',\n",
       "    '_id': '1059867742466039808',\n",
       "    '_score': 6.9822435,\n",
       "    '_source': {'id': 1059867742466039808,\n",
       "     'user': {'location': 'California'}}},\n",
       "   {'_index': 'g20_index',\n",
       "    '_type': '_doc',\n",
       "    '_id': '1059868585873395713',\n",
       "    '_score': 6.9822435,\n",
       "    '_source': {'id': 1059868585873395713,\n",
       "     'user': {'location': 'California'}}}]}}"
      ]
     },
     "execution_count": 12,
     "metadata": {},
     "output_type": "execute_result"
    }
   ],
   "source": [
    "location_string = 'California'\n",
    "search_body = {\n",
    "  \"query\": {\n",
    "    \"match\": {\n",
    "      \"user.location\": location_string\n",
    "    }\n",
    "  }\n",
    "  , \"_source\": [\"id\", \"user.location\"]\n",
    "}\n",
    "\n",
    "es.search(body=search_body, index=index_name)"
   ]
  },
  {
   "cell_type": "markdown",
   "metadata": {},
   "source": [
    "---\n",
    "4. Consulta para poder buscar tweets cuyos usuarios hayan abierto sus cuentas en un rango de fechas.\n"
   ]
  },
  {
   "cell_type": "code",
   "execution_count": 13,
   "metadata": {},
   "outputs": [
    {
     "name": "stdout",
     "output_type": "stream",
     "text": [
      "Mon Nov 05 08:27:18 +0000 2018\n",
      "Wed Nov 07 08:27:18 +0000 2018\n"
     ]
    }
   ],
   "source": [
    "date_format =\"%a %b %d %H:%M:%S %z %Y\"\n",
    "\n",
    "date_to = dateutil.parser.parse(\"2018-11-05T08:27:18-0000\")\n",
    "date_from = dateutil.parser.parse(\"2018-11-07T08:27:18-0000\")\n",
    "\n",
    "date_to_str = date_to.strftime(date_format)\n",
    "date_from_str = date_from.strftime(date_format)\n",
    "\n",
    "print(date_to_str)\n",
    "print(date_from_str)"
   ]
  },
  {
   "cell_type": "code",
   "execution_count": 14,
   "metadata": {},
   "outputs": [
    {
     "data": {
      "text/plain": [
       "{'took': 6,\n",
       " 'timed_out': False,\n",
       " '_shards': {'total': 1, 'successful': 1, 'skipped': 0, 'failed': 0},\n",
       " 'hits': {'total': {'value': 7856, 'relation': 'eq'},\n",
       "  'max_score': 1.0,\n",
       "  'hits': [{'_index': 'g20_index',\n",
       "    '_type': '_doc',\n",
       "    '_id': '1059862694315069440',\n",
       "    '_score': 1.0,\n",
       "    '_source': {'created_at': 'Tue Nov 06 17:38:52 +0000 2018'}},\n",
       "   {'_index': 'g20_index',\n",
       "    '_type': '_doc',\n",
       "    '_id': '1059862694931693571',\n",
       "    '_score': 1.0,\n",
       "    '_source': {'created_at': 'Tue Nov 06 17:38:52 +0000 2018'}},\n",
       "   {'_index': 'g20_index',\n",
       "    '_type': '_doc',\n",
       "    '_id': '1059862696294780929',\n",
       "    '_score': 1.0,\n",
       "    '_source': {'created_at': 'Tue Nov 06 17:38:52 +0000 2018'}},\n",
       "   {'_index': 'g20_index',\n",
       "    '_type': '_doc',\n",
       "    '_id': '1059862697016246273',\n",
       "    '_score': 1.0,\n",
       "    '_source': {'created_at': 'Tue Nov 06 17:38:52 +0000 2018'}},\n",
       "   {'_index': 'g20_index',\n",
       "    '_type': '_doc',\n",
       "    '_id': '1059862697314000896',\n",
       "    '_score': 1.0,\n",
       "    '_source': {'created_at': 'Tue Nov 06 17:38:52 +0000 2018'}},\n",
       "   {'_index': 'g20_index',\n",
       "    '_type': '_doc',\n",
       "    '_id': '1059862698219974656',\n",
       "    '_score': 1.0,\n",
       "    '_source': {'created_at': 'Tue Nov 06 17:38:53 +0000 2018'}},\n",
       "   {'_index': 'g20_index',\n",
       "    '_type': '_doc',\n",
       "    '_id': '1059862698010271744',\n",
       "    '_score': 1.0,\n",
       "    '_source': {'created_at': 'Tue Nov 06 17:38:53 +0000 2018'}},\n",
       "   {'_index': 'g20_index',\n",
       "    '_type': '_doc',\n",
       "    '_id': '1059862698459049984',\n",
       "    '_score': 1.0,\n",
       "    '_source': {'created_at': 'Tue Nov 06 17:38:53 +0000 2018'}},\n",
       "   {'_index': 'g20_index',\n",
       "    '_type': '_doc',\n",
       "    '_id': '1059862699394375680',\n",
       "    '_score': 1.0,\n",
       "    '_source': {'created_at': 'Tue Nov 06 17:38:53 +0000 2018'}},\n",
       "   {'_index': 'g20_index',\n",
       "    '_type': '_doc',\n",
       "    '_id': '1059862699134369793',\n",
       "    '_score': 1.0,\n",
       "    '_source': {'created_at': 'Tue Nov 06 17:38:53 +0000 2018'}}]}}"
      ]
     },
     "execution_count": 14,
     "metadata": {},
     "output_type": "execute_result"
    }
   ],
   "source": [
    "search_body = {\n",
    "  \"query\": {\n",
    "    \"bool\": {\n",
    "      \"must\": [\n",
    "        {\n",
    "          \"range\": {\n",
    "            \"created_at\": {\n",
    "              \"gte\": date_to_str,\n",
    "              \"lte\": date_from_str\n",
    "            }\n",
    "          }\n",
    "        }\n",
    "      ]\n",
    "    }\n",
    "  }\n",
    "  , \"_source\": [\"created_at\"]\n",
    "}\n",
    "\n",
    "es.search(body=search_body, index=index_name)"
   ]
  },
  {
   "cell_type": "markdown",
   "metadata": {},
   "source": []
  },
  {
   "cell_type": "markdown",
   "metadata": {},
   "source": [
    "---\n",
    "5. Consulta para poder buscar tweets que hayan sido posteados en un área específica,por ejemplo, en el área de “Washington DC” usando el campo “place.bounding_box”."
   ]
  },
  {
   "cell_type": "code",
   "execution_count": 15,
   "metadata": {},
   "outputs": [
    {
     "data": {
      "text/plain": [
       "{'took': 4,\n",
       " 'timed_out': False,\n",
       " '_shards': {'total': 1, 'successful': 1, 'skipped': 0, 'failed': 0},\n",
       " 'hits': {'total': {'value': 2, 'relation': 'eq'},\n",
       "  'max_score': 1.0,\n",
       "  'hits': [{'_index': 'g20_index',\n",
       "    '_type': '_doc',\n",
       "    '_id': '1059863726218719232',\n",
       "    '_score': 1.0,\n",
       "    '_source': {'created_at': 'Tue Nov 06 17:42:58 +0000 2018',\n",
       "     'place': {'bounding_box': {'coordinates': [[[-77.252801, 39.102707],\n",
       "         [-77.252801, 39.169487],\n",
       "         [-77.163064, 39.169487],\n",
       "         [-77.163064, 39.102707]]],\n",
       "       'type': 'Polygon'}}}},\n",
       "   {'_index': 'g20_index',\n",
       "    '_type': '_doc',\n",
       "    '_id': '1059867328819675136',\n",
       "    '_score': 1.0,\n",
       "    '_source': {'created_at': 'Tue Nov 06 17:57:17 +0000 2018',\n",
       "     'place': {'bounding_box': {'coordinates': [[[-77.262146, 38.811091],\n",
       "         [-77.262146, 38.865962],\n",
       "         [-77.157684, 38.865962],\n",
       "         [-77.157684, 38.811091]]],\n",
       "       'type': 'Polygon'}}}}]}}"
      ]
     },
     "execution_count": 15,
     "metadata": {},
     "output_type": "execute_result"
    }
   ],
   "source": [
    "washingtonDC_envelope = [[-77.72727881333427, 39.25855829997086],[-75.50806630658498, 37.8529507389647]]\n",
    "\n",
    "search_body = { \"query\":{\n",
    "    \"bool\": {\n",
    "      \"must\": {\n",
    "        \"match_all\": {}\n",
    "      },\n",
    "      \"filter\": {\n",
    "        \"geo_shape\": {\n",
    "          \"place.bounding_box\": {\n",
    "            \"shape\": {\n",
    "              \"type\": \"envelope\",\n",
    "              \"coordinates\" : washingtonDC_envelope\n",
    "            },\n",
    "            \"relation\": \"within\"\n",
    "                      }       \n",
    "                    }\n",
    "              }\n",
    "            } \n",
    "    \n",
    "    },\n",
    "    \"_source\": [\"created_at\", \"place.bounding_box\"]\n",
    "}\n",
    "\n",
    "es.search(body=search_body, index=index_name)\n"
   ]
  },
  {
   "cell_type": "code",
   "execution_count": null,
   "metadata": {},
   "outputs": [],
   "source": []
  }
 ],
 "metadata": {
  "kernelspec": {
   "display_name": "Python [conda env:diplo_env] *",
   "language": "python",
   "name": "conda-env-diplo_env-py"
  },
  "language_info": {
   "codemirror_mode": {
    "name": "ipython",
    "version": 3
   },
   "file_extension": ".py",
   "mimetype": "text/x-python",
   "name": "python",
   "nbconvert_exporter": "python",
   "pygments_lexer": "ipython3",
   "version": "3.7.9"
  }
 },
 "nbformat": 4,
 "nbformat_minor": 4
}
