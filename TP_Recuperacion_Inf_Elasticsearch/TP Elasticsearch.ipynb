{
 "cells": [
  {
   "cell_type": "markdown",
   "metadata": {},
   "source": [
    "# TP Elasticsearch\n",
    "Utilizando el archivo G20 provisto durante la clase (https://bit.ly/g20_Diplo2020), indexar los tweets del archivo, asegurándose de definir el mapping de forma correcta para los campos de interés. Notar que el mapping correcto no sólo depende del tipo de datos, sino de las consultas que deben hacerse sobre los mismos. De ser necesario o conveniente, se podría elegir indexar un campo de más de una forma.\n",
    "Los campos de interés son:\n",
    "*  “text”, “created_at”, “id”, “user.location”, “user.followers_count”, “place.bounding_box”,  “source”, “entities.hashtags”, “timestamp_ms”, “retweeted”\n",
    "Las consultas de interés son:\n",
    "1. Poder buscar teniendo en cuenta el patrón de mayúsculas o minúsculas, por ejemplo: “President” o “PRESIDENT” en el campo ‘text’, solo debe devolver documentos que tengan la palabra escrita con el mismo patrón de mayúsculas y minúsculas.\n",
    "2. Poder buscar por palabras que compartan una misma raíz, por ejemplo: “pray”, haría un match con tweets que contengan: “prays”, “prayer”, “praying”, “prayers” en el campo ‘text’.\n",
    "3. Consulta para poder buscar una ubicación en el campo ‘user.location’ y que el matching sea exacto, por ejemplo para las consultas “York” y “California”, no debería devolver documentos en donde user.location sea “New York” o “LA, California” por ejemplo.\n",
    "4. Consulta para poder buscar tweets cuyos usuarios hayan abierto sus cuentas en un rango de fechas.\n",
    "5. Consulta para poder buscar tweets que hayan sido posteados en un área específica,por ejemplo, en el área de “Washington DC” usando el campo “place.bounding_box”."
   ]
  },
  {
   "cell_type": "markdown",
   "metadata": {},
   "source": [
    "Investigacion para realizar el TP \n",
    "* https://www.youtube.com/watch?v=ma3BC8aPBfE&ab_channel=AmineM.Boulouma"
   ]
  },
  {
   "cell_type": "code",
   "execution_count": 1,
   "metadata": {},
   "outputs": [],
   "source": [
    "from elasticsearch import Elasticsearch"
   ]
  },
  {
   "cell_type": "code",
   "execution_count": null,
   "metadata": {},
   "outputs": [],
   "source": []
  },
  {
   "cell_type": "code",
   "execution_count": null,
   "metadata": {},
   "outputs": [],
   "source": []
  },
  {
   "cell_type": "code",
   "execution_count": null,
   "metadata": {},
   "outputs": [],
   "source": []
  },
  {
   "cell_type": "code",
   "execution_count": null,
   "metadata": {},
   "outputs": [],
   "source": []
  }
 ],
 "metadata": {
  "kernelspec": {
   "display_name": "Python [conda env:diplo_env] *",
   "language": "python",
   "name": "conda-env-diplo_env-py"
  },
  "language_info": {
   "codemirror_mode": {
    "name": "ipython",
    "version": 3
   },
   "file_extension": ".py",
   "mimetype": "text/x-python",
   "name": "python",
   "nbconvert_exporter": "python",
   "pygments_lexer": "ipython3",
   "version": "3.7.9"
  }
 },
 "nbformat": 4,
 "nbformat_minor": 4
}
